{
  "nbformat": 4,
  "nbformat_minor": 0,
  "metadata": {
    "colab": {
      "provenance": [],
      "private_outputs": true,
      "gpuType": "T4",
      "toc_visible": true,
      "authorship_tag": "ABX9TyNSIkFuNAwJ00dOt3Bf//z8",
      "include_colab_link": true
    },
    "kernelspec": {
      "name": "python3",
      "display_name": "Python 3"
    },
    "language_info": {
      "name": "python"
    },
    "accelerator": "GPU"
  },
  "cells": [
    {
      "cell_type": "markdown",
      "metadata": {
        "id": "view-in-github",
        "colab_type": "text"
      },
      "source": [
        "<a href=\"https://colab.research.google.com/github/onun1059/python_basic-study/blob/main/%ED%8C%8C%EC%9D%B4%EC%8D%AC_%EC%A0%95%EB%A6%AC.ipynb\" target=\"_parent\"><img src=\"https://colab.research.google.com/assets/colab-badge.svg\" alt=\"Open In Colab\"/></a>"
      ]
    },
    {
      "cell_type": "code",
      "execution_count": null,
      "metadata": {
        "id": "OBKN8XtdNrsv"
      },
      "outputs": [],
      "source": [
        "from google.colab import drive\n",
        "drive.mount('/content/drive')"
      ]
    },
    {
      "cell_type": "code",
      "source": [
        "import torch"
      ],
      "metadata": {
        "id": "4ciSXqIqPaTo"
      },
      "execution_count": null,
      "outputs": []
    },
    {
      "cell_type": "code",
      "source": [
        "a=10\n",
        "b=5\n",
        "print(int(a,b))"
      ],
      "metadata": {
        "id": "awHJ8eJuI62D"
      },
      "execution_count": null,
      "outputs": []
    },
    {
      "cell_type": "markdown",
      "source": [
        "# chapter 3~7\n"
      ],
      "metadata": {
        "id": "TmW_Q57BV2W7"
      }
    },
    {
      "cell_type": "code",
      "source": [
        "a,b,c,d = 3,5,7,5\n",
        "ans = [a,b,c,d]\n",
        "answer={}\n",
        "for value in ans:\n",
        "    try: answer[value] += 1\n",
        "    except: answer[value] = 1\n",
        "if len (answer)==1:\n",
        "    sol = 1111*a\n",
        "elif len(answer)==2:\n",
        "    for i in answer:\n",
        "        if answer[i] ==1:\n",
        "            q=answer[i]\n",
        "        elif answer[i] ==3:\n",
        "            p=answer[i]\n",
        "        else:\n",
        "\n",
        "    sol = (10*p+q)**2\n",
        "\n",
        "print(answer)\n",
        "print(len(answer))"
      ],
      "metadata": {
        "id": "UNh8ygikihKa"
      },
      "execution_count": null,
      "outputs": []
    },
    {
      "cell_type": "code",
      "source": [
        "flag= True\n",
        "print(flag==5)"
      ],
      "metadata": {
        "id": "zX_ZddEQyCWn"
      },
      "execution_count": null,
      "outputs": []
    },
    {
      "cell_type": "markdown",
      "source": [],
      "metadata": {
        "id": "U0UDKPwcktId"
      }
    },
    {
      "cell_type": "markdown",
      "source": [
        "3. 콘솔(터미널, 명령 프롬프트)에서 스크립트 파일은 python 스크립트파일.py"
      ],
      "metadata": {
        "id": "Rc6GOYW2drpX"
      }
    },
    {
      "cell_type": "markdown",
      "source": [
        "4. 사칙연산 (기본문법)\n",
        "*   quotient, remainder = divmod (5,2) =(5//2, 5%2)\n",
        "\n"
      ],
      "metadata": {
        "id": "ua9xrpGtZIEA"
      }
    },
    {
      "cell_type": "markdown",
      "source": [
        "5. 숫자계산\n",
        "*   2진수: 0bx / 8진수: 0ox / 16진수: 0xx   \n",
        "*   int, float, complex\n"
      ],
      "metadata": {
        "id": "wIKGdeTvd2ih"
      }
    },
    {
      "cell_type": "markdown",
      "source": [
        "6. 변수입력\n",
        "\n",
        "*   _(밑줄 문자) 가능 ex) _x =10\n",
        "*   문자부터 시작, 숫자 시작 x / 특수문자, 키워드 변수 불가능\n",
        "\n",
        "*   x,y = y,x (서로 자리 바꾸기)\n",
        "*   d= None ; d+=10 (X)\n",
        "*   a,b = map(int, input().split())\n",
        "\n",
        "\n",
        "\n"
      ],
      "metadata": {
        "id": "wiRRTl_Ufv2O"
      }
    },
    {
      "cell_type": "markdown",
      "source": [
        "7. 출력\n",
        "*  print(1,2,3, sep='\\n') ; print(1,'\\n'.2.'\\n',3, sep=''); print('1\\n2\\n3')"
      ],
      "metadata": {
        "id": "1iANMdTmhr1q"
      }
    },
    {
      "cell_type": "code",
      "source": [
        "print(1,2,3, sep='\\n')"
      ],
      "metadata": {
        "id": "8ZdfmdbViRSb"
      },
      "execution_count": null,
      "outputs": []
    },
    {
      "cell_type": "code",
      "source": [
        "print(1,'\\n',2,'\\n',3, sep='')"
      ],
      "metadata": {
        "id": "KUPkkSfpiTgo"
      },
      "execution_count": null,
      "outputs": []
    },
    {
      "cell_type": "code",
      "source": [
        "print('1\\n2\\n3')"
      ],
      "metadata": {
        "id": "5-s3VgCEiTs9"
      },
      "execution_count": null,
      "outputs": []
    },
    {
      "cell_type": "code",
      "source": [
        "a= [1,2,5,2,3,4]\n",
        "b= sorted(a, reverse=True)\n",
        "print(b)"
      ],
      "metadata": {
        "id": "eicF8Xy_KzZn"
      },
      "execution_count": null,
      "outputs": []
    },
    {
      "cell_type": "markdown",
      "source": [
        "7. 심사문제\n",
        "* 표준 입력으로 년, 월, 일, 시, 분, 초가 입력됩니다. 다음 소스 코드를 완성하여 입력된 날짜와 시간을 년-월-일T시:분:초 형식으로 출력되게 만드세요."
      ],
      "metadata": {
        "id": "R7Ee6s0-eKc7"
      }
    },
    {
      "cell_type": "code",
      "source": [
        "year, month, day, hour, minute, second = input().split()\n",
        "print(year,month,day,sep='-',end=' T')\n",
        "print(hour, minute, second, sep=':')"
      ],
      "metadata": {
        "id": "H1Z5z1FjjEMM"
      },
      "execution_count": null,
      "outputs": []
    },
    {
      "cell_type": "markdown",
      "source": [
        "#chapter 8~10"
      ],
      "metadata": {
        "id": "LQ_W_rtDkoSw"
      }
    },
    {
      "cell_type": "markdown",
      "source": [
        "8. 논리연산\n",
        "* False, 숫자 0 , 빈문자열 '',\"\" 제외 True\n",
        "* 심사문제: 표준 입력으로 국어, 영어, 수학, 과학 점수가 입력됩니다. 국어는 90점 이상, 영어는 80점 초과, 수학은 85점 초과, 과학은 80점 이상일 때 합격이라고 정했습니다(한 과목이라도 조건에 만족하지 않으면 불합격). 다음 소스 코드를 완성하여 합격이면 True, 불합격이면 False가 출력되게 만드세요(input에서 안내 문자열은 출력하지 않아야 합니다)."
      ],
      "metadata": {
        "id": "iWZ01SZ9kM8Q"
      }
    },
    {
      "cell_type": "code",
      "source": [
        "kor,eng,mat,sci = map(int,input().split())\n",
        "print(kor>=90 and eng>80 and mat>85 and sci>=80 )"
      ],
      "metadata": {
        "id": "vkzWRCzCkuLh"
      },
      "execution_count": null,
      "outputs": []
    },
    {
      "cell_type": "markdown",
      "source": [
        "9. 문자열\n",
        "* ''' ''' / \"\"\" \"\"\" /  /'  /\""
      ],
      "metadata": {
        "id": "VKwlLnkimbll"
      }
    },
    {
      "cell_type": "markdown",
      "source": [
        "10. 튜플과 리스트\n",
        "* tuple 1개 만들때 : (a, ) or a,"
      ],
      "metadata": {
        "id": "b4Pv6OaMtEBi"
      }
    },
    {
      "cell_type": "markdown",
      "source": [
        "# chapter 11~16"
      ],
      "metadata": {
        "id": "RkiPNoGIk06J"
      }
    },
    {
      "cell_type": "markdown",
      "source": [
        "11. 시퀀스자료형 (리스트, 튜플, 문자열,range)\n",
        "* len(a) // index : a[2]\n",
        "* 값 할당,삭제 a[2]=5, del a[2] : 리스트만 가능 / 읽기전용 튜플,range,문자열 불가능\n",
        "* 시퀀스 슬라이스 a[0:8:3] :모든 시퀀스 가능\n",
        "* 슬라이스에 요소 할당 a[2:5] =['a','b','c'] :개수 안맞춰도 알아서 할당. but 증가폭을 설정했으면 요소개수 일치해야함  (리스트만 가능)\n",
        "\n",
        "\n"
      ],
      "metadata": {
        "id": "LY60oigYuQBj"
      }
    },
    {
      "cell_type": "markdown",
      "source": [
        "12. 딕셔너리\n",
        "* 리스트와 딕셔너리는 키로 사용 불가.\n",
        "* 딕셔너리 = {}, dict()\n",
        "* 딕셔너리 = dict(health = 100, mana = 200)\n",
        "* 딕셔너리 = dict(zip(['health', 'mana'], [100, 200])) #zip()안에 튜플, 리스트 상관X\n",
        "* 딕셔너리 = dict([('health', 100), ('mana', 200)])\n",
        "* 딕셔너리 = dict({'health': 100, 'mana': 200})\n",
        "* 딕셔너리['health'] = 2000\n",
        "---\n",
        "* 심사문제(캐릭터 능력치 저장) : 표준 입력으로 문자열 여러 개와 숫자(실수) 여러 개가 두 줄로\n",
        "입력됩니다. 입력된 첫 번째 줄은 키, 두 번째 줄은 값으로 하여 딕셔너리를 생성한 뒤 딕셔너리를 출력하는 프로그램을 만드세요. input().split()의 결과를 변수 한 개에 저장하면 리스트로 저장됩니다."
      ],
      "metadata": {
        "id": "SDIZZAU3P9rg"
      }
    },
    {
      "cell_type": "code",
      "source": [
        "key = input().split()\n",
        "value = map(float,input().split())\n",
        "a=dict(zip(key,value))\n",
        "print(a)"
      ],
      "metadata": {
        "id": "oRJ3K0b2RZa-"
      },
      "execution_count": null,
      "outputs": []
    },
    {
      "cell_type": "markdown",
      "source": [
        "13~15. if, elif, else\n",
        "* 들여 쓰기 주의\n",
        "* 0<x<20 가능  /  이상, 미만 표시시 <, > 다음 = 써야함 : <=, >="
      ],
      "metadata": {
        "id": "ikeIIaQ7eZ5O"
      }
    },
    {
      "cell_type": "markdown",
      "source": [
        "16. for\n",
        "* 숫자 배열 뒤집기: for i in reversed(range(10)): <-> for i in range(9, -1, -1):\n",
        "* for letter in reversed('Python'): / range 이외의 시퀀스 객체 사용 가능"
      ],
      "metadata": {
        "id": "1F-lCm52hTBk"
      }
    },
    {
      "cell_type": "code",
      "source": [
        "for i in reversed(range(10)):\n",
        "    print(i)\n",
        "for i in range(9, -1, -1):\n",
        "    print(i)"
      ],
      "metadata": {
        "id": "Fik4OQruelbr"
      },
      "execution_count": null,
      "outputs": []
    },
    {
      "cell_type": "markdown",
      "source": [
        "16. 심사문제 (구구단)\n",
        "* 표준 입력으로 정수가 입력됩니다. 입력된 정수의 구구단을 출력하는 프로그램을 만드세요(input에서 안내 문자열은 출력하지 않아야 합니다). 출력 형식은 숫자 * 숫자 = 숫자처럼 만들고 숫자와 *, = 사이는 공백을 한 칸 띄웁니다.\n",
        "\n",
        "\n"
      ],
      "metadata": {
        "id": "nMZInXFqjge8"
      }
    },
    {
      "cell_type": "code",
      "source": [
        "num= int(input())\n",
        "for i in range(1,10):\n",
        "    print(num,'*',i,'=',num*i,sep=' ')"
      ],
      "metadata": {
        "id": "32JvAH92jeaz"
      },
      "execution_count": null,
      "outputs": []
    },
    {
      "cell_type": "markdown",
      "source": [
        "# chapter 17~22"
      ],
      "metadata": {
        "id": "e5g6Z5idk85f"
      }
    },
    {
      "cell_type": "markdown",
      "source": [
        "17. while\n",
        "* import random\n",
        "* random.random()\n",
        "* random.randint(1,6)\n",
        "* 무한 루프 종료 : Ctrl + C\n",
        "* 주사위 문제 6의 눈이 나올때까지 던지기"
      ],
      "metadata": {
        "id": "2qf31Pz8lO2W"
      }
    },
    {
      "cell_type": "code",
      "source": [
        "import random\n",
        "i=0\n",
        "while i!=6:\n",
        "    i=random.randint(1,6)\n",
        "    print(i)"
      ],
      "metadata": {
        "id": "T4asNk0dnD1v"
      },
      "execution_count": null,
      "outputs": []
    },
    {
      "cell_type": "markdown",
      "source": [
        "18. break, continue로 반복문 제어\n",
        "* break는 if문을 종료 시키는게 아닌 while, for문을 종료\n",
        "* continue는 일부 코드를 건너 뜀\n",
        "* 심사문제: 3으로 끝나지 않는 값\n",
        "* 표준 입력으로 정수 두 개가 입력됩니다(첫 번째 입력 값의 범위는 1-200, 두 번째 입력 값의 범위는 10~200이며 첫 번째 입력 값은 두 번째 입력 값보다 항상 작습니다). 다음 소스 코드를 완성하여 첫 번째 정수와 두 번째 정수 사이의 숫자 중 3으로 끝나지 않는 숫자가 출력되게 만드세요. 정답에 코드를 작성할 때는 while True:에 맞춰서 들여쓰기를 해주세요."
      ],
      "metadata": {
        "id": "6z9-Im1wnDjn"
      }
    },
    {
      "cell_type": "code",
      "source": [
        "#주어진값\n",
        "'''\n",
        "start, stop = map(int,input().split())\n",
        "i=start\n",
        "while True:\n",
        "\n",
        "    print(i, end=' ')\n",
        "    i += 1\n",
        "'''"
      ],
      "metadata": {
        "id": "cIsdJvd1md52"
      },
      "execution_count": null,
      "outputs": []
    },
    {
      "cell_type": "code",
      "source": [
        "start, stop = map(int,input().split())\n",
        "i=start\n",
        "while True:\n",
        "    if i%10==3:\n",
        "        i +=1\n",
        "        continue\n",
        "    if i-1 == stop:\n",
        "        break\n",
        "    print(i, end=' ')\n",
        "    i += 1"
      ],
      "metadata": {
        "id": "h8w73MplpHnV"
      },
      "execution_count": null,
      "outputs": []
    },
    {
      "cell_type": "markdown",
      "source": [
        "19. 중첩루프 -별 출력\n",
        "* 심사문제 : 산 만들기\n",
        "* 표준 입력으로 삼각형의 높이가 입력됩니다. 입력된 높이만큼 산 모양으로 별을 출력하는 프로그램을 만드세요(input에서 안내 문자열은 출력하지 않아야 합니다). 이때 출력 결과는 예제와 정확히 일치해야 합니다. 모양이 같더라도 공백이나 빈 줄이 더 들어가면 틀린 것으로 처리됩니다."
      ],
      "metadata": {
        "id": "y-ZXe_A0qQPr"
      }
    },
    {
      "cell_type": "code",
      "source": [
        "hi=int(input()) #답안\n",
        "for i in range(hi): #0 ,1 ,2\n",
        "    for j in reversed(range(hi)): # 2, 1, 0\n",
        "        if j>i:\n",
        "            print(' ',end='')\n",
        "        else:\n",
        "            print('*',end='')\n",
        "    for k in range(hi):\n",
        "        if k<i:\n",
        "            print('*',end='')\n",
        "    print()"
      ],
      "metadata": {
        "id": "-cWzED7fqPuR"
      },
      "execution_count": null,
      "outputs": []
    },
    {
      "cell_type": "code",
      "source": [
        "hi=int(input()) #내 답\n",
        "for i in range(hi):\n",
        "    for j in range(hi):\n",
        "        if i+j <hi-1:\n",
        "            print(' ',end='')\n",
        "        else:\n",
        "            print('*',end='')\n",
        "    for k in range(hi):\n",
        "        if k<i:\n",
        "            print('*',end='')\n",
        "    print()"
      ],
      "metadata": {
        "id": "czgIaHWwrQGI"
      },
      "execution_count": null,
      "outputs": []
    },
    {
      "cell_type": "code",
      "source": [
        "hei=int(input()) # 초기 내 답\n",
        "for i in range(hei):\n",
        "    for j in range(hei*2):\n",
        "        if (j<=hei-(i+2) or j>=hei+i ):\n",
        "            print(' ',end='')\n",
        "        else:\n",
        "            print('*',end='')\n",
        "    print('')"
      ],
      "metadata": {
        "id": "9R-_uDHluzPJ"
      },
      "execution_count": null,
      "outputs": []
    },
    {
      "cell_type": "markdown",
      "source": [
        "20. FizzBuzz\n",
        "* if문 안쓰고 for i in range(1,101):\n",
        "* print('Fizz'*(i%3==0) +'Buzz'*(i%7==0) or i)\n",
        "* 심사문제 : 공배수 문제\n",
        "* 표준 입력으로 정수 두 개가 입력됩니다(첫 번째 입력 값의 범위는 1-1000, 두 번째 입력 값의 범위는 10~1000이며 첫 번째 입력 값은 두 번째 입력 값보다 항상 작습니다). 첫 번째 정수부터 두 번째 정수까지 숫자를 출력하면서 5의 배수일 때는 'Fizz', 7의 배수일 때는 'Buzz', 5와 7의 공배수일 때는 'FizzBuzz'를 출력하는 프로그램을 만드세요(input에서 안내 문자열은 출력하지 않아야 합니다).\n"
      ],
      "metadata": {
        "id": "Dk7TRdKxvoch"
      }
    },
    {
      "cell_type": "code",
      "source": [
        "while True:\n",
        "    a,b=map(int,input().split())\n",
        "    if 1<=a<=1000 and 10<=b<=1000:\n",
        "        break\n",
        "for i in range(a,b+1):\n",
        "    print('Fizz'*(i%5==0)+'Buzz'*(i%7==0) or i)\n"
      ],
      "metadata": {
        "id": "Kz7mfb2IvoLd"
      },
      "execution_count": null,
      "outputs": []
    },
    {
      "cell_type": "markdown",
      "source": [
        "21. 터틀 그래픽스 (꼬부기)\n",
        "* import turtle as t\n",
        "* t.shape('turtle')\n",
        "* t.speed('fastest', 'fast', 'normal', 'slow', 'slowest')\n",
        "* t.rt(1) ; t.lt(1) ; t.fd(1) ; t.bk(1)\n",
        "* t.color('blue')\n",
        "* t.begin_fill() ; t.end_fill()\n",
        "* 심사문제: n각별 만들기\n",
        "* 표준 입력으로 꼭지점 개수(정수)와 선의 길이(정수)가 입력됩니다(꼭지점 개수의 입력 범위는 5-10, 선의 길이 입력 범위는 50~150입니다). 다음 소스 코드를 완성하여 꼭지점 개수와 선의 길이에 맞는 별이 그려지게 만드세요. 별을 그릴 때는 현재 위치부터 오른쪽으로 이동해서 시작해야 하며 시계 방향으로 그려야 합니다."
      ],
      "metadata": {
        "id": "D9jFTtXexC-y"
      }
    },
    {
      "cell_type": "code",
      "source": [
        "import turtle as t\n",
        "\n",
        "n, line = map(int, input().split())\n",
        "t.shape('turtle')\n",
        "t.speed('fastest')\n",
        "for i in range(n):\n",
        "    t.fd(line)\n",
        "    t.rt((360/n)*2)\n",
        "    t.fd(line)\n",
        "    t.lt(360/n)"
      ],
      "metadata": {
        "id": "vVN2d6s1vknT"
      },
      "execution_count": null,
      "outputs": []
    },
    {
      "cell_type": "code",
      "source": [
        "a=[1, 2]\n",
        "# a[len(a):0]=[500]\n",
        "a.insert(0,50)\n",
        "a.sort(reverse=True)\n",
        "print(a)"
      ],
      "metadata": {
        "id": "a-aHofabfOt8"
      },
      "execution_count": null,
      "outputs": []
    },
    {
      "cell_type": "code",
      "source": [
        "a=[1,2,3]\n",
        "a.extend([500,2,660])\n",
        "print(a)\n",
        "a.insert(2, 600)\n",
        "print(a)\n",
        "a.sort(reverse=False)\n",
        "print(a)"
      ],
      "metadata": {
        "id": "t4hkoG4ztQMz"
      },
      "execution_count": null,
      "outputs": []
    },
    {
      "cell_type": "markdown",
      "source": [
        "22. 리스트와 튜플 응용\n",
        "* a=[ ] ; a.append(500)  :  끝에 요소 하나를 추가\n",
        "* a.append(500) = a[len(a):0]=[500] : **a[len(a)]이 없기 때문에 새로 슬라이스를 추가 생성해야 함 그래서 a[len(a)]=500 불가능\n",
        "* a.extend( [500, 600] ) :  리스트 끝에 다른 리스트 연결\n",
        "* a.insert(2, 500)       :  인덱스 자리에 요소 추가\n",
        "* a=[10,20,30] ; a[1:1] = [500,600]  -> [10, 500, 600, 20, 30] : index 자리에 빈 리스트\n",
        "* a.pop()  : 마지막 요소 or 특정 인덱스 요소 삭제 후 반환\n",
        "* del a[1] :  특정 인덱스 요소 삭제  // remove(20) : 값 삭제\n",
        "* a.index(20) : 처음 찾은 인덱스 구함\n",
        "* a.count(20) : 리스트에서 특정 값의 개수 출력\n",
        "* a.reverse() : 리스트에서 요소의 순서 반대로\n",
        "* a. sort() / a.sort(reverse=Falsle) <->a.sort(reverse=True)\n",
        "* a.clear() / del a[:]\n",
        "* a.append(500) / a[len(a):]=[500]\n",
        "* a.extend([500,600]) / a[len(a):]=[500,600]\n",
        "* b = a.copy()\n",
        "---\n",
        "인덱스, 요소 출력\n",
        "* a=[10,20,30,40]\n",
        "* for index, value in enumerate(a):\n",
        "*     print(index,value)\n",
        "* min(a) / a.sort(), a[ ] <-> max(a) / a.sort(reverse=True)\n",
        "\n"
      ],
      "metadata": {
        "id": "4i8N4rOn2b30"
      }
    },
    {
      "cell_type": "code",
      "source": [
        "#sort(reverse=True) <-> list(reversed(a)) 비교\n",
        "a=[1,2,3,4,5]\n",
        "b=a.copy()\n",
        "a.sort(reverse=True)\n",
        "print(list(reversed(b)))\n",
        "print(a)"
      ],
      "metadata": {
        "id": "pqtbPjy38wNN"
      },
      "execution_count": null,
      "outputs": []
    },
    {
      "cell_type": "markdown",
      "source": [
        "22. 뒷부분\n",
        "* sum(a)\n",
        "* 리스트 표현식: a= [ i+5 for i in range(10) if i%2 ==0] / b= list( i*2 for i in range(10))\n",
        "* ** for가 여러개 일때 처리순서는 뒤에서 앞으로\n",
        "* a= [i*j for j in range(2,10) for i in range (1,10)]\n",
        "* a= [i*j for j in range(2,10)\n",
        "* for i in range(1,10)]\n",
        "* ** map은 list, tuple 모두 가능\n",
        "* a= [ 1.2, 2.7, 4.6 ]\n",
        "* b= tuple(map(int,a)) <-> c= list(map(str,range(10)))\n",
        "* ** 언패킹(unpacking)\n",
        "* a,b = [ 10, 20 ]\n",
        "* ** 튜플은 변경 x index, count같이 정보 구하는 메서드만 가능\n",
        "* a= tuple (i for i in range(10) if i%2==0)\n",
        "* b=(1.2, 2.5, 3.7);   b= tuple(map(int,a))\n",
        "---\n",
        "* 심사문제 : 2의 거듭제곱 리스트 생성하기\n",
        "* 표준 입력으로 정수 두 개가 입력됩니다(첫 번째 입력 값의 범위는 1-20, 두 번째 입력 값의 범위는 10~30이며 첫 번째 입력 값은 두 번째 입력 값보다 항상 작습니다). 첫 번째 정수부터 두 번째 정수까지를 지수로 하는 2의 거듭제곱 리스트를 출력하는 프로그램을 만드세요(input에서 안내 문자열은 출력하지 않아야 합니다). 단, 리스트의 두 번째 요소와 뒤에서 두 번째 요소는 삭제한 뒤 출력하세요. 출력 결과는 리스트 형태라야 합니다.\n"
      ],
      "metadata": {
        "id": "xfxUHjlr-1WJ"
      }
    },
    {
      "cell_type": "code",
      "source": [
        "start, stop = map(int,input().split())\n",
        "a= list(2**i for i in range(start,stop+1) if i !=start+1 and i != stop-1)\n",
        "print(a)"
      ],
      "metadata": {
        "id": "e_-XeMpJB9LE"
      },
      "execution_count": null,
      "outputs": []
    },
    {
      "cell_type": "markdown",
      "source": [
        "# chapter 23~24"
      ],
      "metadata": {
        "id": "wqN8-QNWcf0y"
      }
    },
    {
      "cell_type": "markdown",
      "source": [
        "23. 2차원 리스트 사용하기\n",
        "* 2차원 리스트 종류 for, while, list"
      ],
      "metadata": {
        "id": "euxEr90ccSD7"
      }
    },
    {
      "cell_type": "code",
      "source": [
        "# for문\n",
        "a = []\n",
        "for i in range(3):\n",
        "    line = []\n",
        "    for j in range(2):\n",
        "        line.append(0)\n",
        "    a.append(line)\n",
        "print(a)"
      ],
      "metadata": {
        "id": "qNgNa_G7eXzE"
      },
      "execution_count": null,
      "outputs": []
    },
    {
      "cell_type": "code",
      "source": [
        "# while 문\n",
        "a = []\n",
        "i = 0\n",
        "while i < 3:\n",
        "    line = []\n",
        "    j = 0\n",
        "    while j < 2:\n",
        "        line.append(0)\n",
        "        j += 1\n",
        "    a.append(line)\n",
        "    i += 1\n",
        "print(a)"
      ],
      "metadata": {
        "id": "_knwMD5YesJw"
      },
      "execution_count": null,
      "outputs": []
    },
    {
      "cell_type": "code",
      "source": [
        "# list ( [0]* 와 0 for문으로 구성된 a,b 비교하기) *는 리스트 없애고 이어주는 느낌\n",
        "a = [[0 for j in range(2)] for i in range(3)]\n",
        "b = [[0]*2 for i in range(3)]\n",
        "print(a)\n",
        "print(b)"
      ],
      "metadata": {
        "id": "rTc-zNJKfYLw"
      },
      "execution_count": null,
      "outputs": []
    },
    {
      "cell_type": "markdown",
      "source": [
        "23. 이어서\n",
        "* 2차원 이상의 다차원 리스트는 copy 메서드 대신 deepcopy 사용\n",
        "* import copy\n",
        "* b = copy.deepcopy(a)\n",
        "* 심사문제 : 지뢰찾기\n",
        "* 표준 입력으로 2차원 리스트의 가로(col)와 세로(row)가 입력되고 그 다음 줄부터 리스트의 요소로 들어갈 문자가 입력됩니다. 이때 2차원 리스트 안에서 *는 지뢰이고 .은 지뢰가 아닙니다. 지뢰가 아닌 요소에는 인접한 지뢰의 개수를 출력하는 프로그램을 만드세요(input에서 안내 문자열은 출력하지 않아야 합니다).\n",
        "여러 줄을 입력 받으려면 다음과 같이 for 반복문에서 input을 호출한 뒤 append로 각 줄을 추가하면 됩니다(list 안에 문자열을 넣으면 문자열이 문자 리스트로 변환됩니다).\n",
        "* matrix = []\n",
        "* for i in range(row):\n",
        "*    matrix.append(list(input()))"
      ],
      "metadata": {
        "id": "ztbveEG2fuzx"
      }
    },
    {
      "cell_type": "code",
      "source": [
        "matrix= []\n",
        "col, row = map(int,input().split())\n",
        "for i in range(row):\n",
        "    matrix.append(list(input()))\n",
        "for j in range(row):\n",
        "    for k in range(col):\n",
        "        count = 0\n",
        "        if matrix[j][k]=='.':\n",
        "            for a in range(j-1,j+2):\n",
        "                for b in range(k-1,k+2):\n",
        "                    if 0<=a<row and 0<=b<col :\n",
        "                        if matrix[a][b]=='*':\n",
        "                            count +=1\n",
        "            matrix[j][k] = count\n",
        "            print(matrix[j][k], end='')\n",
        "        else:\n",
        "            print(matrix[j][k], end='')\n",
        "    print()"
      ],
      "metadata": {
        "id": "04QrzqWD0qmb"
      },
      "execution_count": null,
      "outputs": []
    },
    {
      "cell_type": "code",
      "source": [
        "matrix = [ ]\n",
        "col, row = map(int,input().split())\n",
        "for i in range(row):\n",
        "    matrix.append(list(input()))\n",
        "for j in range(row):\n",
        "    for k in range(col):\n",
        "        count = 0\n",
        "        if matrix[j][k]=='.':\n",
        "            for a in range(j-1,j+2):\n",
        "                for b in range(k-1,k+2):                      ### a,b 범위\n",
        "                    if not (a<0 or b<0 or a>=row or b>=col):  ### 여기 if not 구절\n",
        "                        if matrix[a][b] == '*':\n",
        "                            count +=1\n",
        "            matrix[j][k] = count\n",
        "            print(matrix[j][k], end='')\n",
        "        else :\n",
        "            print(matrix[j][k], end='')\n",
        "    print()"
      ],
      "metadata": {
        "id": "0_OxWNJ0fuf8"
      },
      "execution_count": null,
      "outputs": []
    },
    {
      "cell_type": "markdown",
      "source": [
        "24. 문자열 응용\n",
        "* 문자열 바꾸기 s.replace('Hello', 'Fuck') : 저장하고 싶으면 s=s.replace('Hello', 'Fuck')\n",
        "* table = str.maketrans('aeiou', '12345') // 'fuck'.translate(table)\n",
        "* s.split(',')\n",
        "* '-'.join([ 'apple', 'pear', 'grape']) #튜플도 가능\n",
        "* s.upper() <-> s.lower()\n",
        "* s.lstrip() <-> s.rstrip() <-> s.strip(' ,.') #문자열 공백 및 해당 문자 삭제\n",
        "* import string / s.strip(string.punctuation+'공백')\n",
        "* s.ljust(10) <-> s.rjust(10) <-> s.center(10)\n",
        "---\n",
        "* 메서드 체이닝 : 메서드 연결 동작\n",
        "* s. rjust(10).upper() <-> input().split()\n",
        "* s.zfill(4)\n",
        "* s.find('pl') <-> s.rfind('pl') : 특정 문자열 index 양수로 반환, 없으면 -1 반환\n",
        "* s.index('pl') <-> s.rindex('pl') : 동일 동작, 없으면 error\n",
        "* s.count('pl')\n",
        "---\n",
        "* 문자열 서식 지정자, 포매팅\n",
        "* name = 'chunsik'\n",
        "* 'I am %s ' % name <-> '%d' % 숫자 <-> '%f' % 숫자\n",
        "* '%.소수점 이하 자릿수f'%숫자 : '%.2f'%2.3\n",
        "* '%길이s': '%10s' % 'python' <-> '%-10s'%'python // 'python'.rjust(10) <-> 'python'.ljust(10) // '{0:>10}'.format('python') <-> '{:<10}'.format('python')\n",
        "* '%d %s' %(숫자, '문자열')\n",
        "---\n",
        "* format 메서드 / 인덱스 생략시 순서대로\n",
        "* '{인덱스1} {인덱스2} {인덱스3}'.format(값1,값2,값3} // '{0},{0} {1}'.format('Py',5)\n",
        "* {language} {version}.format(language='PY',version=3.7)\n",
        "* f'{language}{version}' // language='PY' ; version=3.6\n",
        "* format 문자열 정렬 < 왼쪽으로 정렬 >오른쪽으로 정렬\n",
        "* '{인덱스:<길이}'.format('python')\n",
        "* '%0개수d' %숫자 // '{인덱스:0개수d}'.format(숫자)\n",
        "* '%0개수.자릿수f'%숫자 // '{인덱스:0개수.자릿수f'}.format(숫자)\n",
        "* '{인덱스:채우기/정렬/길이/.자릿수/자료형}'.format(숫자)\n",
        "* '{0:0<10.3f}'.format(156.2)\n",
        "---\n",
        "* 심사문제: 특정 단어 개수 세기\n",
        "* 표준 입력으로 문자열이 입력됩니다. 입력된 문자열에서 'the'의 개수를 출력하는 프로그램을 만드세요(input에서 안내 문자열은 출력하지 않아야 합니다). 단, 모든 문자가 소문자인 'the'만 찾으면 되며 'them', 'there', 'their' 등은 포함하지 않아야 합니다.`\n",
        "\n",
        "\n"
      ],
      "metadata": {
        "id": "dsxAdvM2kgvq"
      }
    },
    {
      "cell_type": "code",
      "source": [
        "a=input()\n",
        "program=a.split()\n",
        "count = 0\n",
        "for i in range(len(program)):\n",
        "    program[i]=program[i].strip(' ,.')\n",
        "    if program[i]=='the':\n",
        "        count +=1\n",
        "print(count)"
      ],
      "metadata": {
        "id": "ARCopG0xkBZT"
      },
      "execution_count": null,
      "outputs": []
    },
    {
      "cell_type": "code",
      "source": [
        "a=input()\n",
        "program=a.split()\n",
        "program=[i.strip(' ,.') for i in program ]\n",
        "num=program.count('the')\n",
        "print(num)"
      ],
      "metadata": {
        "id": "Z_OBHc6C6VBc"
      },
      "execution_count": null,
      "outputs": []
    },
    {
      "cell_type": "markdown",
      "source": [
        "* 심사문제: 높은 가격순으로 출력하기\n",
        "표준 입력으로 물품 가격 여러 개가 문자열 한 줄로 입력되고, 각 가격은 ;(세미콜론)으로 구분되어 있습니다. 입력된 가격을 높은 가격순으로 출력하는 프로그램을 만드세요(input에서 안내 문자열은 출력하지 않아야 합니다). 이때 가격은 길이를 9로 만든 뒤 오른쪽으로 정렬하고 천단위로 ,(콤마)를 넣으세요."
      ],
      "metadata": {
        "id": "y4JBZu4x7vI1"
      }
    },
    {
      "cell_type": "markdown",
      "source": [],
      "metadata": {
        "id": "dGs_UmhMBwrG"
      }
    },
    {
      "cell_type": "code",
      "source": [
        "price = list(map(int,input().split(';')))\n",
        "price.sort(reverse=True)\n",
        "for i in range(len(price)):\n",
        "    a=price[i]//1000000\n",
        "    b=(price[i]-a*1000000)//1000\n",
        "    num2='{0:>3}'.format(b)\n",
        "    c=price[i]-(a*1000000+b*1000)\n",
        "    num3='{0:0<3}'.format(c)\n",
        "    if a>0:\n",
        "        print(a,',',num2,',',num3,sep='')\n",
        "    else:\n",
        "        print('  ',num2,',',num3,sep='')"
      ],
      "metadata": {
        "id": "oLA7d3EqBIAt"
      },
      "execution_count": null,
      "outputs": []
    },
    {
      "cell_type": "code",
      "source": [
        "price = list(map(int,input().split(';')))\n",
        "price.sort(reverse=True)\n",
        "for i in range(len(price)):\n",
        "    price[i]='{0:>9,}'.format(price[i]) # 책에 안나와 있는 내용 알아서 천단위로 자르는듯\n",
        "    print(price[i])"
      ],
      "metadata": {
        "id": "VzYsOEErGZ3m"
      },
      "execution_count": null,
      "outputs": []
    },
    {
      "cell_type": "markdown",
      "source": [
        "# chapter 25-26,29~30"
      ],
      "metadata": {
        "id": "A1GJpMpLcmiv"
      }
    },
    {
      "cell_type": "markdown",
      "source": [
        "25. 딕셔너리 응용\n",
        "* x = {'a':10, 'b':20 }\n",
        "* x.setdefault('c') : 'c'에 None이 value로 자동 배당\n",
        "* x.setdefault('d', 50)\n",
        "* x.update(a=90) : 수정 및 추가 가능\n",
        "* #update(키=값)은 키가 문자열일 때만 가능  ('5'도 불가능)// if키가 숫자 -> update(딕셔너리)로 사용 (문자,모두 딕셔너리로 update 가능)\n",
        "* x.update([[2,'Two'],[4,'Four']])\n",
        "* x.update(zip([1,2],['one','two']))\n",
        "* x.pop('a') : 제거되고 값 출력 // x.pop('z', 0)없으면 0출력    x.popitem() 무작위 키-값 쌍 제거\n",
        "* x.clear()\n",
        "* x.get('a') 값 출력\n",
        "* x.get('z', 0) 키가 없을땐 0 출력\n",
        "* x.items() : 키-값 모두 가져옴\n",
        "* x.keys(): 키 모두 가져옴 <-> x.values(): 값 모두 가져옴\n",
        "* for 키,값 in 딕셔너리.items(): ; print(key,value)  :키,값은 튜플상태\n"
      ],
      "metadata": {
        "id": "8EaUYH_kKHas"
      }
    },
    {
      "cell_type": "code",
      "source": [
        "keys = ['a','b','c','d']\n",
        "x = dict.fromkeys(keys) #값 None인 키 리스트 딕셔너리 생성\n",
        "x = dict.fromkeys(keys, 100) # 값 100인 생성\n",
        "x = {key:value for key,value in dict.fromkeys(keys).items()} #키-None 생성\n",
        "x = {key:0 for key in dict.fromkeys(['a','b','c','d']).keys()} #키-0 생성\n",
        "y = {value: key for key, value in {'a':10,'b':20}.items()} #키-값 자리 바꾸기"
      ],
      "metadata": {
        "id": "BvYN5Hm6NCxx"
      },
      "execution_count": null,
      "outputs": []
    },
    {
      "cell_type": "code",
      "source": [
        "# test\n",
        "keys = ['a','b','c','d']\n",
        "x= dict.fromkeys(keys, 0)\n",
        "y={key: 0 for key in dict.fromkeys(keys)}\n",
        "print(x)\n",
        "print(y)"
      ],
      "metadata": {
        "id": "68X-yIJlRmpn"
      },
      "execution_count": null,
      "outputs": []
    },
    {
      "cell_type": "markdown",
      "source": [
        "25. 이어서\n",
        "* #딕셔너리는 for문에서 del하면 크기가 감소되서 안됨 -> 새로 지정\n",
        "* x = {key: value for key,value in x.items() if value != 20}\n",
        "* 1차 딕셔너리 : y =x.copy\n",
        "* 2차 딕셔너리 : import copy // y = copy.deepcopy(x)\n",
        "---\n",
        "* 퀴즈: 딕셔너리 x의 모든 키를 출력하는 방법\n",
        "* for key in x: // print(key)  #리스트 튜플과 딕셔너리의 차이점. 리스트,튜플은 다 나옴 but 딕셔너리는 앞부분만 나옴\n",
        "* for key in x.keys(): // print(key)\n",
        "* for key, value in x.items(): // print(key)\n",
        "---\n",
        "* 연습문제 : 평균점수 구하기"
      ],
      "metadata": {
        "id": "gmIgcoqBOyq6"
      }
    },
    {
      "cell_type": "code",
      "source": [
        "maria = {'korean': 94, 'english': 91, 'mathematics': 89, 'science': 83}\n",
        "\n",
        "# a=[value for key, value in maria.items()]\n",
        "# a=sum(a)/len(a)\n",
        "# print(a)"
      ],
      "metadata": {
        "id": "lfNbNmPTOuqz"
      },
      "execution_count": null,
      "outputs": []
    },
    {
      "cell_type": "code",
      "source": [
        "maria = {'korean': 94, 'english': 91, 'mathematics': 89, 'science': 83}\n",
        "a=sum(maria.values())/4\n",
        "print(a)"
      ],
      "metadata": {
        "id": "vOS-i4QMKJK2"
      },
      "execution_count": null,
      "outputs": []
    },
    {
      "cell_type": "markdown",
      "source": [
        "25. 심사문제\n",
        "* 딕셔너리에서 특정 값 삭제하기\n",
        "* 표준 입력으로 문자열 여러 개와 숫자 여러 개가 두 줄로 입력되고, 첫 번째 줄은 키, 두 번째 줄은 값으로 하여 딕셔너리를 생성합니다. 다음 코드를 완성하여 딕셔너리에서 키가 'delta'인 키-값 쌍과 값이 30인 키-값 쌍을 삭제하도록 만드세요."
      ],
      "metadata": {
        "id": "C5umidypKQjt"
      }
    },
    {
      "cell_type": "code",
      "source": [
        "keys = input().split()\n",
        "values = map(int,input().split())\n",
        "x = dict(zip(keys, values))\n",
        "x = {key:value for key,value in x.items() if (key !='delta' and value != 300)}\n",
        "print(x)"
      ],
      "metadata": {
        "id": "zRQvB8OOKbk7"
      },
      "execution_count": null,
      "outputs": []
    },
    {
      "cell_type": "markdown",
      "source": [
        "26. 세트\n",
        "* 합집합,교집합,차집합 등의 연산 가능 // 요소 중복 X // { }로 저장\n",
        "* 매번 무작위로 나오기 때문에 index 사용 불가\n",
        "* a = set('apple') -> {'e', 'a', 'p', 'l'}\n",
        "* b = set(range(5))  // c = set(): 빈 딕셔너리 생성\n",
        "* a = {1,2,3,4} // b = {3,4,5,6}\n",
        "* a|b // set.union(a,b)   : {1,2,3,4,5,6}\n",
        "* a&b // set.intersection(a,b) : {3,4}\n",
        "* a-b // set.difference(a,b) : {1,2}\n",
        "* a^b // set.symmetric_difference(a,b) : {1,2,5,6}\n",
        "---\n",
        "* a에 계산 결과 저장\n",
        "* a |= b // a.update(b)\n",
        "* a &= b // a.intersection_update(b)\n",
        "* a -= b // a.difference_update(b)\n",
        "* a ^= b // a.symmetric_difference_update(b)\n",
        "----\n",
        "* 집합연산\n",
        "* a = {1,2,3,4}\n",
        "* a <= {1,2,3,4,5} // a.issubset({1,2,3,4,5}) #부분집합\n",
        "* a < {1,2,3,4,5} // 메서드 x #진부분집합\n",
        "* a >= {1,2,3,4} // a.issuperset({1,2,3,4}) #상위집합\n",
        "* a > {1,2,3} // 메서드 x #진상위집합\n",
        "* a == {4,2,1,3} // 요소만 같으면 True\n",
        "* a != {1,2,3}\n",
        "* a.isdisjoint({5,6,7,8}) : 겹치는 요소가 없으면 True, 있으면 False\n",
        "---\n",
        "* 세트조작. 요소 하나 추가 감소\n",
        "* a.add(5) #add(요소) 세트에 요소 추가, ()안에 세트 형태 아님\n",
        "* a.remove(3) <-> a.discard(3) #remove()는 요소가 없으면 에러\n",
        "* a.pop() #무작위 요소 삭제후 반환, 없으면 에러\n",
        "* a.clear()   // len(a) // b=a.copy()\n",
        "---\n",
        "* 반복문으로 요소 출력"
      ],
      "metadata": {
        "id": "fR7Ht7gKMSqz"
      }
    },
    {
      "cell_type": "code",
      "source": [
        "a = {i for i in 'apple'} # {}, set()로 세트 생성. 중복된건 제외\n",
        "b = set( i for i in 'pineapple' if i not in 'apl')\n",
        "for i in a:\n",
        "    print(i) #요소 무작위 순서로 출력, 숫자로 이루어진건 순서대로"
      ],
      "metadata": {
        "id": "0bsavdkHMRLi"
      },
      "execution_count": null,
      "outputs": []
    },
    {
      "cell_type": "code",
      "source": [
        "# 심사 문제 : 공약수 구하기 (easy)\n",
        "num1, num2 = map(int,input().split())\n",
        "a = {i for i in range(1, num1+1) if num1%i==0}\n",
        "b = {i for i in range(1, num2+1) if num2%i==0}\n",
        "divisor = a & b\n",
        "\n",
        "result = 0\n",
        "if type (divisor) == set:\n",
        "    result = sum(divisor)\n",
        "print(result)"
      ],
      "metadata": {
        "id": "dHSoQubeYKEk"
      },
      "execution_count": null,
      "outputs": []
    },
    {
      "cell_type": "markdown",
      "source": [
        "29. 함수 사용하기\n",
        "* def hello(): // print('when do you study hard?')\n",
        "* def add(a,b): // return(a+b)\n",
        "* def add_sub(a,b): return a+b, a-b // x,y= add_sub(10,20) #미지수가 하나일때 튜플로 입력받음\n",
        "* Quiz 다음 중 세개 반환하는 함수 올바른 코드 : def three():\n",
        "* return 1,2,3\n",
        "* return (1,2,3)\n",
        "* return [1,2,3]"
      ],
      "metadata": {
        "id": "RZJYlPP5Z_06"
      }
    },
    {
      "cell_type": "markdown",
      "source": [
        "30. 함수 인수\n",
        "* x = [10,20,30] // print_numbers(*x) : 언패킹 (리스트 또는 튜플 앞에 *(애스터리스크) 붙임\n",
        "* 단 매개변수 리스트와 리스트의 요소개수가 같아야 함 다르면 에러"
      ],
      "metadata": {
        "id": "KRaB6CR7gp-j"
      }
    },
    {
      "cell_type": "code",
      "source": [
        "#가변 인수 함수 // 매개변수 앞에 *를 붙임\n",
        "def print_numbers(*args): #언패킹 의미 아님\n",
        "    for arg in args:\n",
        "        print(arg)\n",
        "print_numbers(10,20,30,40) # 4개 출력\n",
        "x=[10,20,30]\n",
        "print_numbers(*x) # 리스트 언패킹 3개 출력"
      ],
      "metadata": {
        "id": "WvokMBVghYvg"
      },
      "execution_count": null,
      "outputs": []
    },
    {
      "cell_type": "code",
      "source": [
        "#키워드 인수 //  인수의 순서와 용도 매번 기억하지 않도록 키워드 인수 사용\n",
        "def personal_info(name,age,address):\n",
        "    print('이름:', name)\n",
        "    print('나이:', age)\n",
        "    print('주소:', address)\n",
        "x = {'name': '홍길동', 'age': '25', 'address': '홍대 입구역'}#함수 매개변수,딕셔너리 키 이름 동일\n",
        "personal_info(**x) #언패킹 (딕셔너리: **) (튜플,리스트: *)"
      ],
      "metadata": {
        "id": "C_3lUjQQeuoK"
      },
      "execution_count": null,
      "outputs": []
    },
    {
      "cell_type": "code",
      "source": [
        "def personal_info(**kwargs): #keyword arguments 축약어. 그냥 ant 같이 다른 문자로 해도 됨\n",
        "    for kw,arg in kwargs.items(): #keyword 인수 사용하는 가변인수 함수는 **\n",
        "        print(kw,': ',arg,sep='')\n",
        "personal_info(name='홍길동',age=25,address='홍대입구역')\n",
        "\n",
        "# def personal_info2(name,address='비공개',age): #선입력은 뒤에서부터 넣어야 함"
      ],
      "metadata": {
        "id": "BwyJ-OmOiwag"
      },
      "execution_count": null,
      "outputs": []
    },
    {
      "cell_type": "markdown",
      "source": [
        "30. 심사문제: 가장 낮은 점수, 높은 점수와 평균점수를 구하는 함수 만들기\n",
        "* 표준 입력으로 국어, 영어, 수학, 과학 점수가 입력됩니다. 다음 소스 코드를 완성하여 가장 높은 점수, 가장 낮은 점수, 평균 점수가 출력되게 만드세요. 평균 점수는 실수로 출력되어야 합니다."
      ],
      "metadata": {
        "id": "D1W-5OCRoK8c"
      }
    },
    {
      "cell_type": "code",
      "source": [
        "#문제\n",
        "korean, english, mathematics, science = map(int, input().split())\n",
        "\n",
        "## 이 줄에 들어갈 코드\n",
        "min_score, max_score = get_min_max_score(korean, english, mathematics, science)\n",
        "average_score = get_average(korean=korean, english=english,\n",
        "                            mathematics=mathematics, science=science)\n",
        "print('낮은 점수: {0:.2f}, 높은 점수: {1:.2f}, 평균 점수: {2:.2f}'\n",
        "      .format(min_score, max_score, average_score))\n",
        "\n",
        "min_score, max_score = get_min_max_score(english, science)\n",
        "average_score = get_average(english=english, science=science)\n",
        "print('낮은 점수: {0:.2f}, 높은 점수: {1:.2f}, 평균 점수: {2:.2f}'\n",
        "      .format(min_score, max_score, average_score))"
      ],
      "metadata": {
        "id": "LMFbTQBxgaUJ"
      },
      "execution_count": null,
      "outputs": []
    },
    {
      "cell_type": "code",
      "source": [
        "korean, english, mathematics, science = map(int, input().split())\n",
        "def get_min_max_score(*args):               #list 상태여서 *\n",
        "    return(min(args),max(args))\n",
        "def get_average(**args):                    #dic 상태여서 **\n",
        "    a=sum(args.values())                    #value 꺼낼때 x.values()\n",
        "    return(a/len(args))\n",
        "min_score, max_score = get_min_max_score(korean, english, mathematics, science)\n",
        "average_score = get_average(korean=korean, english=english,\n",
        "                            mathematics=mathematics, science=science)\n",
        "print('낮은 점수: {0:.2f}, 높은 점수: {1:.2f}, 평균 점수: {2:.2f}'\n",
        "      .format(min_score, max_score, average_score))\n",
        "\n",
        "min_score, max_score = get_min_max_score(english, science)\n",
        "average_score = get_average(english=english, science=science)\n",
        "print('낮은 점수: {0:.2f}, 높은 점수: {1:.2f}, 평균 점수: {2:.2f}'\n",
        "      .format(min_score, max_score, average_score))"
      ],
      "metadata": {
        "id": "sjw0jD0SoZ7e"
      },
      "execution_count": null,
      "outputs": []
    },
    {
      "cell_type": "markdown",
      "source": [
        "# chapter 27-28,31~33"
      ],
      "metadata": {
        "id": "392sOqnpcw_F"
      }
    },
    {
      "cell_type": "markdown",
      "source": [
        "27. 파일 사용하기\n",
        "* 파일객체 = open(파일이름, 파일모드) #파일이름 'hello.txt' ,파일모드 w, r\n",
        "* 파일객체.write('문자열')\n",
        "* 파일객체.close()  #파일을 열었으면 닫아야 함"
      ],
      "metadata": {
        "id": "xW-6BNiHo35i"
      }
    },
    {
      "cell_type": "code",
      "source": [
        "# 파일에 문자열 쓰기\n",
        "file = open('hello.txt','w')\n",
        "file.write('Hello!')\n",
        "file.close()\n",
        "# 파일에 문자열 읽기\n",
        "file = open('hello.txt','r')\n",
        "s = file.read()\n",
        "print(s)\n",
        "file.close()"
      ],
      "metadata": {
        "id": "mNSFpiUiqsyx"
      },
      "execution_count": null,
      "outputs": []
    },
    {
      "cell_type": "code",
      "source": [
        "# 자동으로 파일 객체 닫기\n",
        "with open('hello.txt', 'r') as file: # with as, 들여쓰기 필수\n",
        "    s = file.read()\n",
        "    print(s)\n",
        "# 문자열 반복문으로 여러줄 쓰기\n",
        "with open('hello.txt', 'w') as file:\n",
        "    for i in range(3):\n",
        "        file.write('Hello, world! {0}\\n'.format(i))"
      ],
      "metadata": {
        "id": "loDhlR4OrCP_"
      },
      "execution_count": null,
      "outputs": []
    },
    {
      "cell_type": "code",
      "source": [
        "# 리스트에 들어있는 문자열 파일에 쓰기\n",
        "lines = ['안녕하세요.\\n','파이썬\\n', '코딩 도장입니다.\\n']\n",
        "with open('hello.txt','w') as file:\n",
        "    file.writelines(lines) # writelines 사용시 문자열 끝에 \\n 써야함 안쓰면 한줄로 저장\n",
        "\n",
        "# 문자열 여러줄 읽기\n",
        "with open('hello.txt','r') as file:\n",
        "    lines=file.readlines()   #read=문자열 <->readlines=한줄씩 리스트 형태\n",
        "    print(lines)    #리스트 형태로 나옴"
      ],
      "metadata": {
        "id": "wQmFA3acrhkf"
      },
      "execution_count": null,
      "outputs": []
    },
    {
      "cell_type": "code",
      "source": [
        "# 문자열 한줄씩 읽기\n",
        "with open('hello.txt', 'r') as file:\n",
        "    line=file.read()\n",
        "    print(line)\n",
        "\n",
        "with open('hello.txt','r') as file:  # readline 쓸려면 while 문\n",
        "    line=None\n",
        "    while line != '':  #None은 빈 문자열 X\n",
        "        line = file.readline()\n",
        "        print(line.strip('\\n')) #한줄씩 읽으므로 \\n 삭제후 출력\n",
        "\n",
        "with open('hello.txt','r') as file:\n",
        "    lines= file.readlines() #리스트형태\n",
        "    for line in lines:\n",
        "        print(line.strip('\\n'))\n",
        "\n",
        "with open('hello.txt','r') as file:\n",
        "    for line in file: #file ['a','b','c'] 상태이므로 하나씩 꺼내 읽음\n",
        "        print(line.strip('\\n'))"
      ],
      "metadata": {
        "id": "c545L9p2s2Li"
      },
      "execution_count": null,
      "outputs": []
    },
    {
      "cell_type": "code",
      "source": [
        "# 파이썬 객체 -> 파일에 저장: 피클링\n",
        "# 파일 -> 객체 읽어오기: 언피클링\n",
        "import pickle\n",
        "name = 'james'\n",
        "age =17\n",
        "address ='홍대입구'\n",
        "scores ={'korean':90, 'english': 100}\n",
        "\n",
        "with open('james.p', 'wb') as file: #james.p 파일을 바이너리 쓰기모드(wb)로 열기\n",
        "    pickle.dump(name, file)          #write ->pickle.dump\n",
        "    pickle.dump(age, file)\n",
        "    pickle.dump(address, file)\n",
        "    pickle.dump(scores, file)\n",
        "\n",
        "with open('james.p', 'rb') as file:\n",
        "    name = pickle.load(file)        #read ->pickle.load\n",
        "    age = pickle.load(file)\n",
        "    address = pickle.load(file)\n",
        "    scores = pickle.load(file)\n",
        "    print(name)\n",
        "    print(age)\n",
        "    print(address)\n",
        "    print(scores)"
      ],
      "metadata": {
        "id": "zsQWK82mu_7Z"
      },
      "execution_count": null,
      "outputs": []
    },
    {
      "cell_type": "code",
      "source": [
        "# words.txt 파일에서 10자 이하인 단어의 개수 출력\n",
        "with open('words.txt','r') as file: #(내답)\n",
        "    count=0\n",
        "    for word in file: #리스트 형태\n",
        "        word = word.strip('\\n')\n",
        "        if len(word) <=10:\n",
        "            count +=1\n",
        "    print(count)"
      ],
      "metadata": {
        "id": "ZFf_clvgvqn0"
      },
      "execution_count": null,
      "outputs": []
    },
    {
      "cell_type": "code",
      "source": [
        "with open('words.txt','r') as file: #(컴퓨터 답)\n",
        "    count=0\n",
        "    words = file.readlines() #list 형태\n",
        "    for word in words:\n",
        "        if len(word.strip('\\n')) <=10:\n",
        "            count +=1\n",
        "    print(count)"
      ],
      "metadata": {
        "id": "tCQs47Cbx1bD"
      },
      "execution_count": null,
      "outputs": []
    },
    {
      "cell_type": "markdown",
      "source": [
        "27. 심사문제 : 특정 문자가 들어있는 단어 찾기\n",
        "* 문자열이 저장된 words.txt 파일이 주어집니다(문자열은 한 줄로 저장되어 있습니다). words.txt 파일에서 문자 c가 포함된 단어를 각 줄에 출력하는 프로그램을 만드세요. 단어를 출력할 때는 등장한 순서대로 출력해야 하며 ,(콤마)와 .(점)은 출력하지 않아야 합니다."
      ],
      "metadata": {
        "id": "7ZMJh4-z1Nsq"
      }
    },
    {
      "cell_type": "code",
      "source": [
        "with open('words.txt','r') as file:\n",
        "    words = file.readline().split() #file.readline() :문자열 .split() -> 리스트\n",
        "    for word in words:   #여기서 words.txt에 1줄로 나와있기 때문에 readline() 사용 가능\n",
        "        word=word.strip(' ,.')  #but 여러줄이면 while,for문과 readline() 쓰던가 read().split()\n",
        "        if 'c' in word: # 또는 readlines() 써야함\n",
        "            print(word)"
      ],
      "metadata": {
        "id": "OF-pkNp-yWhh"
      },
      "execution_count": null,
      "outputs": []
    },
    {
      "cell_type": "markdown",
      "source": [
        "28. 회문 판별과 N-gram 만들기\n",
        "* 처음과 끝부터 안쪽으로 하나씩 비교한다고 생각\n",
        "* for 문 // word==word[::-1] // list(word) == list(reversed(word))\n",
        "* b=a.copy -> b.reverse() -> a==b #그냥 reverse()는 쓰지 말것\n",
        "* join (문자열 메서드 이용)\n",
        "* word == ''.join(reversed(word))"
      ],
      "metadata": {
        "id": "UjVnMkF01aXi"
      }
    },
    {
      "cell_type": "code",
      "source": [
        "# 반복문으로 문자 검사하기\n",
        "word = input('단어를 입력하세요: ')\n",
        "is_palindrome =True\n",
        "for i in range(len(word)//2): ## len(word)/2가 아닌 len(word)//2\n",
        "    if word[i] != word[-i-1]: # 문자의 시작과 끝부터 check\n",
        "        is_palindrome =False\n",
        "        break\n",
        "print(is_palindrome)"
      ],
      "metadata": {
        "id": "HLZhlXe22BZf"
      },
      "execution_count": null,
      "outputs": []
    },
    {
      "cell_type": "code",
      "source": [
        "# 회문을 시퀀스 객체의 슬라이스를 활용\n",
        "word = input('단어를 입력하세요: ')\n",
        "print(word == word[::-1]) # 원래 문자열과 반대로 뒤집은 문자열 비교"
      ],
      "metadata": {
        "id": "s9HWuOZFmBA2"
      },
      "execution_count": null,
      "outputs": []
    },
    {
      "cell_type": "code",
      "source": [
        "# 리스트로 reversed 이용\n",
        "word = 'level'     #reversed는 내장함수로 tuple,list,문자열 모두 가능\n",
        "list(word) == list(reversed(word)) #a.reverse()는 a가 list여야 가능\n",
        "print(list(word))\n",
        "##\n",
        "a=list(word)  # .reverse()를 사용하려면 하고 print 해야함 print(a.reverse()) -> Nonoe\n",
        "a.reverse()   # .reverse()는 그 함수를 뒤집은 걸로 b=a.reverse() 안됨\n",
        "print(a)"
      ],
      "metadata": {
        "id": "sjkBBistmSg_"
      },
      "execution_count": null,
      "outputs": []
    },
    {
      "cell_type": "code",
      "source": [
        "#zip으로 2-gram 만들기\n",
        "text = 'hello'\n",
        "two_gram = zip(text,text[1:]) #zip은 dic에서 사용했는데 객체의 각 요소를 튜플로 묶음\n",
        "for i in two_gram:\n",
        "    print(i[0], i[1], sep='')"
      ],
      "metadata": {
        "id": "RJxd7a71UoBj"
      },
      "execution_count": null,
      "outputs": []
    },
    {
      "cell_type": "code",
      "source": [
        "#zip과 리스트 표현식으로 N-gram\n",
        "text= 'hello'\n",
        "[text[i:] for i in range(3)]\n",
        "Wrong = list(zip(['hello','ello','llo'])) #zip은 반복 가능한 객체 여러개를 넣어 준거.list 1개X\n",
        "Good = list(zip(*['hello','ello','llo'])) #unpacking을 통해 객체 여러개\n",
        "print(Wrong)\n",
        "print(Good)"
      ],
      "metadata": {
        "id": "qB744st4VobQ"
      },
      "execution_count": null,
      "outputs": []
    },
    {
      "cell_type": "markdown",
      "source": [
        "28. 연습문제: 단어 단위 N-gram 만들기\n",
        "* 표준 입력으로 정수와 문자열이 각 줄에 입력됩니다. 다음 소스 코드를 완성하여 입력된 숫자에 해당하는 단어 단위 N-gram을 튜플로 출력하세요(리스트 표현식 사용). 만약 입력된 문자열의 단어 개수가 입력된 정수 미만이라면 'wrong'을 출력하세요."
      ],
      "metadata": {
        "id": "g_i6Z0Stg2Rn"
      }
    },
    {
      "cell_type": "code",
      "source": [
        "n = int(input())\n",
        "text = input()\n",
        "words = text.split()\n",
        "\n",
        "if len(words)<n:\n",
        "    print('wrong')\n",
        "else:\n",
        "    n_gram = zip(*[words[i:] for i in range(n)])\n",
        "    for i in n_gram:\n",
        "        print(i)"
      ],
      "metadata": {
        "id": "zTKgDwCdayiy"
      },
      "execution_count": null,
      "outputs": []
    },
    {
      "cell_type": "markdown",
      "source": [
        "28. 심사문제: 파일에서 회문인 단어 출력하기\n",
        "* 단어가 줄 단위로 저장된 words.txt 파일이 주어집니다. words.txt 파일에서 회문인 단어를 각 줄에 출력하는 프로그램을 만드세요. 단어를 출력할 때는 등장한 순서대로 출력해야 합니다. 그리고 파일에서 읽은 단어는 \\n이 붙어있으므로 \\n을 제외한 뒤 회문인지 판단해야 하며 단어를 출력할 때도 \\n이 출력되면 안 됩니다(단어 사이에 줄바꿈이 두 번 일어나면 안 됨)."
      ],
      "metadata": {
        "id": "r5K7wvpRg_b1"
      }
    },
    {
      "cell_type": "code",
      "source": [
        "with open('words.txt','r') as file:\n",
        "    lines = file.read().split() #file.readlines() 해도 상관없음\n",
        "    for line in lines:\n",
        "        line = line.strip('\\n')\n",
        "        if line==line[::-1]:\n",
        "            print(line)\n"
      ],
      "metadata": {
        "id": "RxYZypfJWita"
      },
      "execution_count": null,
      "outputs": []
    },
    {
      "cell_type": "markdown",
      "source": [
        "31. 재귀호출\n",
        "* 함수 내에서 함수 자기자신을 호출하는 방식\n",
        "* 계속 호출하다가 최대 재귀 깊이를 초과하면 RecursionError 발생"
      ],
      "metadata": {
        "id": "eeDuqyMW2B62"
      }
    },
    {
      "cell_type": "code",
      "source": [
        "def factorial(n):\n",
        "    if n==1:\n",
        "        return 1 #더이상 재귀 안하고 끝\n",
        "    return n*factorial(n-1)\n",
        "print(factorial(5))"
      ],
      "metadata": {
        "id": "u3H75pAr2Vwl"
      },
      "execution_count": null,
      "outputs": []
    },
    {
      "cell_type": "code",
      "source": [
        "#연습문제: 재귀호출로 회문 판별-> True, False\n",
        "def is_palindrome(word):\n",
        "    if len(word) < 2:\n",
        "        return True\n",
        "    if word[0] != word[-1]:             # 처음과 끝만 비교\n",
        "        return False\n",
        "    return is_palindrome(word[1:-1])    # 앞뒤 1칸씩 줄이기\n",
        "print(is_palindrome('hello'))\n",
        "print(is_palindrome('level'))"
      ],
      "metadata": {
        "id": "EwyUjuTN2_Cw"
      },
      "execution_count": null,
      "outputs": []
    },
    {
      "cell_type": "markdown",
      "source": [
        "31. 심사문제 : 재귀호출로 피보나치 수 구하기\n",
        "* 표준 입력으로 정수 한 개가 입력됩니다(입력 값의 범위는 10~30). 다음 소스 코드를 완성하여 입력된 정수에 해당하는 피보나치 수가 출력되게 만드세요. 피보나치 수는 0과 1로 시작하며, 다음 번 피보나치 수는 바로 앞의 두 피보나치 수의 합입니다."
      ],
      "metadata": {
        "id": "gqZzVmxU38AI"
      }
    },
    {
      "cell_type": "code",
      "source": [
        "def fib(n):\n",
        "    if n==0 or n==1:\n",
        "        return n\n",
        "    return fib(n-1)+fib(n-2)\n",
        "\n",
        "n = int(input())\n",
        "print(fib(n))"
      ],
      "metadata": {
        "id": "gGS1gNje36pH"
      },
      "execution_count": null,
      "outputs": []
    },
    {
      "cell_type": "markdown",
      "source": [
        "32. 람다\n",
        "* 이름이 없는 익명 함수\n",
        "* (lambda 매개변수들: 식)(인수들) 중간에 인수 지정 불가\n",
        "* y=10 / (lambda x: x+y)(1) 이렇게 앞에서 지정해야함"
      ],
      "metadata": {
        "id": "TfZdUvThrgQO"
      }
    },
    {
      "cell_type": "code",
      "source": [
        "def plus_ten(x):\n",
        "    return x+10\n",
        "plus_ten =lambda x: x+10"
      ],
      "metadata": {
        "id": "BIjvCW9chnKs"
      },
      "execution_count": null,
      "outputs": []
    },
    {
      "cell_type": "code",
      "source": [
        "list(map(plus_ten, [1,2,3]))\n",
        "list(map(lambda x: x+10,[1,2,3]))"
      ],
      "metadata": {
        "id": "qJsY3xl2iZNM"
      },
      "execution_count": null,
      "outputs": []
    },
    {
      "cell_type": "code",
      "source": [
        "# lambda 매개변수들: 식 1 if 조건식 else 식 2\n",
        "a = [1,2,3,4,5,6,7,8,9,10]\n",
        "result =list(map(lambda x : str(x) if x%3==0 else x,a))\n",
        "print(result) #if를 쓰면 else 무조건 있어야 함"
      ],
      "metadata": {
        "id": "xv857UXNirGE"
      },
      "execution_count": null,
      "outputs": []
    },
    {
      "cell_type": "code",
      "source": [
        "a = [1,2,3,4,5,6,7,8,9,10]\n",
        "b=list(map(lambda x : str(x) if x==1 else float(x) if x==2 else x+10, a))\n",
        "print(b)"
      ],
      "metadata": {
        "id": "F2TvCs53cvlJ"
      },
      "execution_count": null,
      "outputs": []
    },
    {
      "cell_type": "code",
      "source": [
        "# map에 객체 여러개\n",
        "a = [1,2,3,4,5]\n",
        "b = [2,4,6,8,10]\n",
        "list(map(lambda x, y : x*y , a, b))\n"
      ],
      "metadata": {
        "id": "ysZONdfrjmho"
      },
      "execution_count": null,
      "outputs": []
    },
    {
      "cell_type": "code",
      "source": [
        "# filter(함수, 반복가능한객체) 조건에 만족하는 애들만 뽑아내기\n",
        "def f(x):\n",
        "    return x>5 and x<10\n",
        "a= [8, 3, 2, 10, 15, 7, 1, 9, 0, 11]\n",
        "list(filter(f,a))\n",
        "list(filter(lambda x : x>5 and x<10,a))"
      ],
      "metadata": {
        "id": "lwEYY54Hj_aw"
      },
      "execution_count": null,
      "outputs": []
    },
    {
      "cell_type": "code",
      "source": [
        "# from functools import reduce\n",
        "# reduce(함수, 반복가능한객체) # 누적된 결과를 반환\n",
        "def f(x,y):\n",
        "    return x+y\n",
        "a = [1,2,3,4,5]\n",
        "from functools import reduce\n",
        "reduce(f, a)\n",
        "##\n",
        "from functools import reduce\n",
        "reduce(lambda x,y: x+y,a)#누적된 값을 쓰므로 x,y에 해당되는 a만 입력"
      ],
      "metadata": {
        "id": "s8ecH2uPkYuO"
      },
      "execution_count": null,
      "outputs": []
    },
    {
      "cell_type": "markdown",
      "source": [
        "32. 연습문제 : 이미지 파일만 가져오기\n",
        "* 다음 소스 코드를 완성하여 확장자가 .jpg, .png인 이미지 파일만 출력되게 만드세요. 여기서는 람다 표현식을 사용해야 하며 출력 결과는 리스트 형태라야 합니다. 람다 표현식에서 확장자를 검사할 때는 문자열 메서드를 활용하세요."
      ],
      "metadata": {
        "id": "NGf0_taVqK7D"
      }
    },
    {
      "cell_type": "code",
      "source": [
        "#내 답\n",
        "files = ['font', '1.png', '10.jpg', '11.gif', '2.jpg', '3.png', 'table.xslx', 'spec.docx']\n",
        "print(list(filter(lambda x: x[-4:]=='.jpg' or x[-4:]=='.png',files)))"
      ],
      "metadata": {
        "id": "hAFdQUmYqVlq"
      },
      "execution_count": null,
      "outputs": []
    },
    {
      "cell_type": "code",
      "source": [
        "# 컴퓨터 답 // find에서 안나오면  -1 출력하는 성질 이용\n",
        "files = ['font', '1.png', '10.jpg', '11.gif', '2.jpg', '3.png', 'table.xslx', 'spec.docx']\n",
        "print(list(filter(lambda x: x.find('.jpg') != -1 or x.find('.png') !=-1,files)))"
      ],
      "metadata": {
        "id": "l1mgxTN6qcip"
      },
      "execution_count": null,
      "outputs": []
    },
    {
      "cell_type": "markdown",
      "source": [
        "32. 심사문제: 파일이름을 한꺼번에 바꾸기\n",
        "* 표준 입력으로 숫자.확장자 형식으로 된 파일 이름 여러 개가 입력됩니다. 다음 소스 코드를 완성하여 파일 이름이 숫자 3개이면서 앞에 0이 들어가는 형식으로 출력되게 만드세요. 예를 들어 1.png는 001.png, 99.docx는 099.docx, 100.xlsx는 100.xlsx처럼 출력되어야 합니다. 그리고 람다 표현식을 사용해야 하며 출력 결과는 리스트 형태라야 합니다. 람다 표현식에서 파일명을 처리할 때는 문자열 포매팅과 문자열 메서드를 활용하세요."
      ],
      "metadata": {
        "id": "EQsbAGBHo-rW"
      }
    },
    {
      "cell_type": "code",
      "source": [
        "files = input().split()\n",
        "print(list(map(lambda x :'{0:03d}{1}'.format(int(x[:x.find('.')]),x[x.find('.'):]) ,files)))"
      ],
      "metadata": {
        "id": "GNVxCKQInjPf"
      },
      "execution_count": null,
      "outputs": []
    },
    {
      "cell_type": "code",
      "source": [
        "files = input().split()\n",
        "print(list(map(lambda x :'{0:03d}{1}'.format(int(x.split('.')[0]), x.split('.')[1]),files)))"
      ],
      "metadata": {
        "id": "8tq8eI3ZpN23"
      },
      "execution_count": null,
      "outputs": []
    },
    {
      "cell_type": "code",
      "source": [
        "files = input().split()\n",
        "print(list(map(lambda x:'{0:03d}{1}'.format(int(x[:x.find('.')]),x[x.find('.'):]),files)))"
      ],
      "metadata": {
        "id": "9VgZPs369iWC"
      },
      "execution_count": null,
      "outputs": []
    },
    {
      "cell_type": "markdown",
      "source": [
        "#chapter 33~35"
      ],
      "metadata": {
        "id": "ae8vQeiwU-7L"
      }
    },
    {
      "cell_type": "markdown",
      "source": [
        "33. 클로저\n",
        "* global x : 전역변수 설정\n",
        "* nolocal x: 현재 함수 바깥쪽에 있는 가장 가까운 함수의 지역 변수 x 설정\n",
        "* 클로저 사용하면 프로그램의 흐름을 변수에 저장 가능\n",
        "* 클로저는 지역변수와 코드를 묶어서 사용하고 싶을 때 활용함\n",
        "* 클로저에 속한 지역 변수는 바깥에서 직접 접근 불가하므로 데이터를 숨기고 싶을 때 활용함"
      ],
      "metadata": {
        "id": "zMgXWbT5VdFS"
      }
    },
    {
      "cell_type": "code",
      "source": [
        "# 함수 안의 함수 형태에서 바깥 지역변수 안에서 사용 가능\n",
        "def print_hello():\n",
        "    hello ='Hello, world!'\n",
        "    def print_message():\n",
        "        print(hello)\n",
        "    print_message()\n",
        "\n",
        "print_hello()"
      ],
      "metadata": {
        "id": "7c0CZAXuVKuf"
      },
      "execution_count": null,
      "outputs": []
    },
    {
      "cell_type": "code",
      "source": [
        "def A():\n",
        "    x = 10\n",
        "    def B():\n",
        "        x = 20  # def A()의 지역 변수 x에 20 할당이 아닌, B()의 지역변수 새로 설정\n",
        "    B()\n",
        "    print(x)\n",
        "A()"
      ],
      "metadata": {
        "id": "C7wspGWZVUy4"
      },
      "execution_count": null,
      "outputs": []
    },
    {
      "cell_type": "code",
      "source": [
        "def A():\n",
        "    x = 10\n",
        "    def B():\n",
        "        nonlocal x #현재 함수의 바깥쪽에 있는 지역 변수 사용\n",
        "        x = 20\n",
        "    B()\n",
        "    print(x)\n",
        "A()"
      ],
      "metadata": {
        "id": "OxNXXtWCWJwe"
      },
      "execution_count": null,
      "outputs": []
    },
    {
      "cell_type": "code",
      "source": [
        "def calc():\n",
        "    a = 3\n",
        "    b = 5\n",
        "    def mul_add(x):\n",
        "        return a * x + b\n",
        "    return mul_add  # 함수 반환시 함수이름만 반환 , () 붙이지 말 것\n",
        "c = calc()\n",
        "print(c(1), c(2), c(3))"
      ],
      "metadata": {
        "id": "I4DSjVP-WXFh"
      },
      "execution_count": null,
      "outputs": []
    },
    {
      "cell_type": "code",
      "source": [
        "def calc():\n",
        "    a = 3\n",
        "    b = 5\n",
        "    return lambda x : a * x + b\n",
        "c = calc()\n",
        "print(c(1), c(2), c(3))"
      ],
      "metadata": {
        "id": "2TCglyhtjhpf"
      },
      "execution_count": null,
      "outputs": []
    },
    {
      "cell_type": "code",
      "source": [
        "# 지역 변수에 값 누적시키기\n",
        "def calc():\n",
        "    a = 3\n",
        "    b = 5\n",
        "    total = 0\n",
        "    def mul_add(x):\n",
        "        nonlocal total\n",
        "        total = total + a *x +b\n",
        "        print(total)\n",
        "    return mul_add\n",
        "c= calc()\n",
        "c(1)\n",
        "c(2)\n",
        "c(3)"
      ],
      "metadata": {
        "id": "6oOsFJKdkhAv"
      },
      "execution_count": null,
      "outputs": []
    },
    {
      "cell_type": "code",
      "source": [
        "def counter():\n",
        "    i = 0\n",
        "    def count():\n",
        "        nonlocal i\n",
        "        i +=1\n",
        "        return(i)\n",
        "    return count\n",
        "\n",
        "\n",
        "c = counter()\n",
        "for i in range(10):\n",
        "    print(c(),end = ' ' )"
      ],
      "metadata": {
        "id": "LTnSBQ0tmjOV"
      },
      "execution_count": null,
      "outputs": []
    },
    {
      "cell_type": "markdown",
      "source": [
        "31. 심사문제: 카운트다운 함수 만들기\n",
        "* 표준 입력으로 정수가 입력됩니다. 다음 소스 코드를 완성하여 함수 c를 호출할 때마다 숫자가 1씩 줄어들게 만드세요. 여기서는 함수를 클로저로 만들어야 합니다. 정답에 코드를 작성할 때는 def countdown(n):에 맞춰서 들여쓰기를 해주세요."
      ],
      "metadata": {
        "id": "g-HVGTjWtF9k"
      }
    },
    {
      "cell_type": "code",
      "source": [
        "def countdown(n):\n",
        "________________\n",
        "________________\n",
        "________________\n",
        "________________\n",
        "________________\n",
        "________________\n",
        "\n",
        "n = int(input())\n",
        "\n",
        "c = countdown(n)\n",
        "for i in range(n):\n",
        "    print(c(), end=' ')"
      ],
      "metadata": {
        "id": "IhqA7BAvFAjj"
      },
      "execution_count": null,
      "outputs": []
    },
    {
      "cell_type": "code",
      "source": [
        "def countdown(n):\n",
        "    num = n\n",
        "    def count_num(): # 값 지정 후 -1\n",
        "        nonlocal num\n",
        "        na=num\n",
        "        num -=1\n",
        "        return na\n",
        "    return count_num\n",
        "\n",
        "n = int(input())\n",
        "\n",
        "c = countdown(n)\n",
        "for i in range(n):\n",
        "    print(c(), end=' ')"
      ],
      "metadata": {
        "id": "YLOEtQyhn5Xu"
      },
      "execution_count": null,
      "outputs": []
    },
    {
      "cell_type": "code",
      "source": [
        "def countdown(n):\n",
        "    num = n+1   # 초기에 n+1부터 시작\n",
        "    def count_num():\n",
        "        nonlocal num\n",
        "        num -=1\n",
        "        return num\n",
        "    return count_num\n",
        "\n",
        "n = int(input())\n",
        "\n",
        "c = countdown(n)\n",
        "for i in range(n):\n",
        "    print(c(), end=' ')"
      ],
      "metadata": {
        "id": "lcngWGbzsu1U"
      },
      "execution_count": null,
      "outputs": []
    },
    {
      "cell_type": "markdown",
      "source": [
        "34. 클래스\n",
        "* 클래스 = 속성 + 메서드\n",
        "* 클래스의 이름은 대문자로 시작, 메서드(클래스 안에 있는 함수) 첫번째 매개변수는 반드시 self 지정\n",
        "*  인스턴스 = 클래스() // 인스턴스 = 객체, 객체만 지칭할땐 객체, 클래스와 연관 지칭은 인스턴스\n",
        "* 메서드는 클래스가 아니라 인스턴스를 통해 호출 ex) james.greeting()\n",
        "* 속성 : __init__ 메서드 안에서 self.속성 할당\n",
        "* __init__ (initialize): 인스턴스(객체)를 초기화\n",
        "* 앞 뒤로 __(밑줄 2개)가 붙은 메서드는 파이썬이 자동으로 호출해주는 메서드. 스페셜메서드, 매직 메서드로 불림\n",
        "* 속성은 __init__메서드와 self. 을 붙인 뒤 값을 할당\n"
      ],
      "metadata": {
        "id": "VhZOkoA5tWBO"
      }
    },
    {
      "cell_type": "code",
      "source": [
        "class Person:\n",
        "    def __init__(self, name, age, address):\n",
        "        self.hello = '안녕하세요.'\n",
        "        self.name = name\n",
        "        self.age = age\n",
        "        self.address = address\n",
        "    def greeting(self):\n",
        "        print('{0} 저는 {1}입니다.'.format(self.hello, self.name))\n",
        "\n",
        "maria = Person('마리아', 20, '서울시 서초구 반포동')\n",
        "maria.greeting()\n",
        "\n",
        "print('이름:', maria.name)\n",
        "print('나이:', maria.age)\n",
        "print('주소;', maria.address)"
      ],
      "metadata": {
        "id": "U-rU1KlR4FY_"
      },
      "execution_count": null,
      "outputs": []
    },
    {
      "cell_type": "markdown",
      "source": [
        "34. 클래스 이어서\n",
        "* 기본적으로 공개 속성(self.name)들은 메서드와 인스턴스.속성 형식으로 클래스 바깥에서도 접근 가능\n",
        "* 비공개 속성: __속성   ex) self.__속성 =값\n",
        "\n"
      ],
      "metadata": {
        "id": "DC98pzbo45d-"
      }
    },
    {
      "cell_type": "code",
      "source": [
        "class Person:\n",
        "    def __init__(self, name, age, address, wallet):\n",
        "        self.name = name\n",
        "        self.age = age\n",
        "        self.address = address\n",
        "        self.__wallet = wallet  # 변수 앞에 __를 붙여서 비공개 속성\n",
        "maria = Person('마리아', 20, '서울시 서초구 반포동', 10000)\n",
        "maria.__wallet -= 10000   # 클래스 바깥에서 비공개 속성으로 접근 -> 에러"
      ],
      "metadata": {
        "id": "rs2uvmn-5ht4"
      },
      "execution_count": null,
      "outputs": []
    },
    {
      "cell_type": "code",
      "source": [
        "class Person:\n",
        "    def __init__(self, name, age, address, wallet):\n",
        "        self.name = name\n",
        "        self.age = age\n",
        "        self.address = address\n",
        "        self.__wallet = wallet\n",
        "    def pay(self, amount):      # 비공개 속성은 클래스 안의 메서드에서만 접근 가능\n",
        "        self.__wallet -= amount\n",
        "        print('이제 {0}원 남았네요.'.format(self.__wallet))\n",
        "maria = Person('마리아', 20, '서울시 서초구 반포동', 10000)\n",
        "maria.pay(3000)"
      ],
      "metadata": {
        "id": "2uWhnCoZ58KX"
      },
      "execution_count": null,
      "outputs": []
    },
    {
      "cell_type": "code",
      "source": [
        "class Person:\n",
        "    def __init__(self, name, age, address, wallet):\n",
        "        self.name = name\n",
        "        self.age = age\n",
        "        self.address = address\n",
        "        self.__wallet = wallet\n",
        "    def pay(self, amount):      # 비공개 속성은 클래스 안의 메서드에서만 접근 가능\n",
        "        if amount > self.__wallet:\n",
        "            print('돈이 모자라네...')\n",
        "            return\n",
        "        self.__wallet -= amount\n",
        "\n",
        "maria = Person('마리아', 20, '서울시 서초구 반포동', 10000)\n",
        "maria.pay(12000)"
      ],
      "metadata": {
        "id": "ju4X06wN6BAA"
      },
      "execution_count": null,
      "outputs": []
    },
    {
      "cell_type": "markdown",
      "source": [
        "34. 심사문제 : 게임 캐릭터 클래스 만들기\n",
        "* 표준 입력으로 게임 캐릭터 능력치(체력, 마나, AP)가 입력됩니다. 다음 소스 코드에서 애니(Annie) 클래스를 작성하여 티버(tibbers) 스킬의 피해량이 출력되게 만드세요. 티버의 피해량은 AP * 0.65 + 400이며 AP(Ability Power, 주문력)는 마법 능력치를 뜻합니다."
      ],
      "metadata": {
        "id": "f47bo0mWAuC-"
      }
    },
    {
      "cell_type": "code",
      "source": [
        "________________\n",
        "________________\n",
        "________________\n",
        "________________\n",
        "________________\n",
        "________________\n",
        "________________\n",
        "\n",
        "health, mana, ability_power = map(float, input().split())\n",
        "\n",
        "x = Annie(health=health, mana=mana, ability_power=ability_power)\n",
        "x.tibbers()"
      ],
      "metadata": {
        "id": "UjuoryAiUNFX"
      },
      "execution_count": null,
      "outputs": []
    },
    {
      "cell_type": "code",
      "source": [
        "class Annie:\n",
        "    def __init__(self, health, mana, ability_power):\n",
        "        self.health = health\n",
        "        self.mana = mana\n",
        "        self.ability_power = ability_power\n",
        "    def tibbers(self):\n",
        "        print('티버: 피해량 {0}'.format(self.ability_power*0.65+400))\n",
        "\n",
        "health, mana, ability_power = map(float, input().split())\n",
        "\n",
        "x = Annie(health=health, mana=mana, ability_power=ability_power)\n",
        "x.tibbers()"
      ],
      "metadata": {
        "id": "KA5o0yc4A6ag"
      },
      "execution_count": null,
      "outputs": []
    },
    {
      "cell_type": "markdown",
      "source": [
        "35. 클래스 속성\n",
        "* 클래스 속성은 클래스에 속해 있으며 모든 인스턴스에서 공유함\n",
        "* 클래스.속성 : 클래스 속성에 접근 방법\n",
        "* 클래스 바깥에서도 클래스.속성으로 접근 가능 ex) print(Person.bag)"
      ],
      "metadata": {
        "id": "EvG88MaMCPc2"
      }
    },
    {
      "cell_type": "code",
      "source": [
        "class Person:\n",
        "    bag = []   # 하나를 만들어서 모두 공유\n",
        "    def put_bag(self, stuff):\n",
        "        self.bag.append(stuff)  # 클래스 이름으로 클래스 속성에 접근\n",
        "\n",
        "\n",
        "james = Person()\n",
        "james.put_bag('책')\n",
        "\n",
        "maria = Person()\n",
        "maria.put_bag('열쇠')\n",
        "\n",
        "print(james.bag)\n",
        "print(maria.bag)\n",
        "print(Person.bag)"
      ],
      "metadata": {
        "id": "506nFvGnCXsv"
      },
      "execution_count": null,
      "outputs": []
    },
    {
      "cell_type": "code",
      "source": [
        "class Person:\n",
        "    def __init__(self):  # 가방을 여러사람이 공유하지 않기 위해 bag을 인스턴스 속성을 만듦\n",
        "        self.bag = []\n",
        "\n",
        "    def put_bag(self, stuff):\n",
        "        self.bag.append(stuff)\n",
        "\n",
        "james = Person()\n",
        "james.put_bag('책')\n",
        "\n",
        "maria = Person()\n",
        "maria.put_bag('열쇠')\n",
        "\n",
        "print(james.bag)\n",
        "print(maria.bag)"
      ],
      "metadata": {
        "id": "jaw9f2fKDiSl"
      },
      "execution_count": null,
      "outputs": []
    },
    {
      "cell_type": "markdown",
      "source": [
        "35. 클래스 속성 이어서\n",
        "* 클래스 속성 : 모든 인스턴스가 공유. 인스턴스 전체가 사용해야 하는 값을 저장할 때 사용 (공동서재)\n",
        "* 인스턴스 속성: 인스턴스별로 독립. 각 인스턴스가 값을 다로 저장해야 할 때 사용 (개인 서재)\n",
        "* 정적 메서드 ( @staticmethod ) : 매개변수에 self를 지정하지 않음\n",
        "* 전역함수 속성으로 객체 생성하기 전에 미미 올라가 있음. 즉 객체 전이므로 self 사용 불가\n",
        "* @ 이 붙은 것을 데코레이터. 메서드(함수)에 추가 기능 구현\n",
        "* 정적 메서드는 self를 받지 않으므로 인스턴스 속성 접근 불가\n",
        "* -> 인스턴스 속성, 인스턴스 메서드가 필요 없을때 사용, 인스턴스의 상태를 변화시키지 않는 메서드를 만들때 사용"
      ],
      "metadata": {
        "id": "R6g5h5mbEKCI"
      }
    },
    {
      "cell_type": "code",
      "source": [
        "class Calc:\n",
        "    @staticmethod\n",
        "    def add(a,b):\n",
        "        print(a+b)\n",
        "\n",
        "    @staticmethod\n",
        "    def mul(a,b):\n",
        "        print(a*b)\n",
        "\n",
        "Calc.add(10, 20)   # add 함수가 전역함수 느낌이어서 class 바로 부름\n",
        "Calc.mul(10, 20)"
      ],
      "metadata": {
        "id": "rtgJdWOatJy-"
      },
      "execution_count": null,
      "outputs": []
    },
    {
      "cell_type": "markdown",
      "source": [
        "35. 클래스 속성 이어서\n",
        "* 클래스 메서드 @classmethod / class 속성 값을 쓰고 싶을 때 사용\n",
        "* 첫번째 매개변수에 cls를 지정해야 함"
      ],
      "metadata": {
        "id": "4GyktspzDfQY"
      }
    },
    {
      "cell_type": "code",
      "source": [
        "class 클래스이름:\n",
        "    @classmethod\n",
        "    def 메서드(cls, 매개변수 1, 매개변수 2):\n",
        "        코드"
      ],
      "metadata": {
        "id": "Ids-cvYJuMVz"
      },
      "execution_count": null,
      "outputs": []
    },
    {
      "cell_type": "code",
      "source": [
        "class Person:\n",
        "    count = 0  #class 속성\n",
        "\n",
        "    def __init__(self):\n",
        "        Person.count += 1\n",
        "\n",
        "    @classmethod\n",
        "    def print_count(cls):\n",
        "        print('{0}명 생성되었습니다'.format(cls.count))\n",
        "\n",
        "james = Person()\n",
        "maria = Person()\n",
        "maria.print_count()\n",
        "Person.print_count()"
      ],
      "metadata": {
        "id": "nPX9RX34aDkc"
      },
      "execution_count": null,
      "outputs": []
    },
    {
      "cell_type": "code",
      "source": [
        "class Date:\n",
        "    @staticmethod\n",
        "    def is_date_valid(date_string):\n",
        "        year, month, day = map(int, date_string.split('-'))\n",
        "        return month <=12 and day<=31 #맞는지 확인하는 부분\n",
        "if Date.is_date_valid('2000-10-31'):\n",
        "    print('올바른 날짜 형식입니다.')\n",
        "else:\n",
        "    print('잘못된 날짜 형식입니다.')"
      ],
      "metadata": {
        "id": "-gKjog74c5kc"
      },
      "execution_count": null,
      "outputs": []
    },
    {
      "cell_type": "markdown",
      "source": [
        "35. 심사문제\n",
        "* 표준 입력으로 시:분:초 형식의 시간이 입력됩니다. 다음 소스 코드에서 Time 클래스를 완성하여 시, 분, 초가 출력되게 만드세요. from_string은 문자열로 인스턴스를 만드는 메서드이며 is_time_valid는 문자열이 올바른 시간인지 검사하는 메서드입니다. 시간은 24시까지, 분은 59분까지, 초는 60초까지 있어야 합니다. 정답에 코드를 작성할 때는 class Time:에 맞춰서 들여쓰기를 해주세요."
      ],
      "metadata": {
        "id": "nT0X31l1-aTa"
      }
    },
    {
      "cell_type": "code",
      "source": [
        "#입력 23:35:59 /출력 23 35 59\n",
        "class Time:\n",
        "    def __init__(self, hour, minute, second):\n",
        "        self.hour = hour\n",
        "        self.minute = minute\n",
        "        self.second = second\n",
        "\n",
        "    __________________________________________________________\n",
        "    __________________________________________________________\n",
        "    __________________________________________________________\n",
        "    __________________________________________________________\n",
        "    __________________________________________________________\n",
        "    __________________________________________________________\n",
        "    __________________________________________________________\n",
        "    __________________________________________________________\n",
        "    __________________________________________________________\n",
        "\n",
        "time_string = input()\n",
        "\n",
        "if Time.is_time_valid(time_string):\n",
        "    t = Time.from_string(time_string)\n",
        "    print(t.hour, t.minute, t.second)\n",
        "else:\n",
        "    print('잘못된 시간 형식입니다.')"
      ],
      "metadata": {
        "id": "umb9oKmn-YbV"
      },
      "execution_count": null,
      "outputs": []
    },
    {
      "cell_type": "code",
      "source": [
        "class Time:\n",
        "    def __init__(self, hour, minute, second):\n",
        "        self.hour = hour\n",
        "        self.minute = minute\n",
        "        self.second = second\n",
        "    @staticmethod\n",
        "    def from_string(time_string):\n",
        "        hour, minute, second = map(int, time_string.split(':'))\n",
        "        return Time(hour,minute,second)\n",
        "\n",
        "    @staticmethod\n",
        "    def is_time_valid(time_string):\n",
        "        a,b,c = map(int, time_string.split(':'))\n",
        "        return a<=24 and b<=59 and c<=60\n",
        "\n",
        "time_string = input()\n",
        "\n",
        "if Time.is_time_valid(time_string):\n",
        "    t = Time.from_string(time_string)\n",
        "    print(t.hour, t.minute, t.second)\n",
        "else:\n",
        "    print('잘못된 시간 형식입니다.')"
      ],
      "metadata": {
        "id": "EcW3wVSG-o6t"
      },
      "execution_count": null,
      "outputs": []
    },
    {
      "cell_type": "code",
      "source": [
        "class Time:\n",
        "    def __init__(self, hour, minute, second):\n",
        "        self.hour = hour\n",
        "        self.minute = minute\n",
        "        self.second = second\n",
        "\n",
        "    @classmethod\n",
        "    def from_string(cls, string):\n",
        "        hour, minute, second = map(int, string.split(':'))\n",
        "        return cls(hour,minute,second)   #Time(hour,minute,second)와 같은 의미\n",
        "\n",
        "    @staticmethod\n",
        "    def is_time_valid(string):\n",
        "        hour,minute,second = map(int, time_string.split(':'))\n",
        "        return hour<=24 and minute<=59 and second<=60\n",
        "time_string = input()\n",
        "\n",
        "if Time.is_time_valid(time_string):\n",
        "    t = Time.from_string(time_string)\n",
        "    print(t.hour, t.minute, t.second)\n",
        "else:\n",
        "    print('잘못된 시간 형식입니다.')"
      ],
      "metadata": {
        "id": "E31kz7qVJ7iN"
      },
      "execution_count": null,
      "outputs": []
    },
    {
      "cell_type": "markdown",
      "source": [
        "#chapter 36~40"
      ],
      "metadata": {
        "id": "yXWMfV5lUfQ8"
      }
    },
    {
      "cell_type": "markdown",
      "source": [
        "36. 클래스 상속 사용하기\n",
        "* 기반 클래스 : 기능을 물려주는 클래스 (부모 클래스, 슈퍼 클래스)\n",
        "* 파생 클래스 : 상속을 받아 새롭게 만드는 클래스 (자식 클래스, 서브 클래스)\n",
        "* 기반 클래스 능력을 그대로 활용하면서 새로운 클래스를 만드므로 기존 기능 재사용 가능\n",
        "* class 파생클래스이름(기반클래스 이름):\n",
        "* if 기반클래스에 __init__메서드(속성) 이 있을 시 super().__init__로 호출"
      ],
      "metadata": {
        "id": "FZ5axuPIev5m"
      }
    },
    {
      "cell_type": "code",
      "source": [
        "class Person:\n",
        "    def greeting(self):\n",
        "        print('안녕하세요.')\n",
        "\n",
        "class Student(Person):\n",
        "    def study(self):\n",
        "        print('공부하기')\n",
        "\n",
        "james = Student()\n",
        "james.greeting()    # james는 Student class 지만 Person을 상속받아서 greeting 가능\n",
        "james.study()"
      ],
      "metadata": {
        "id": "ZBeKiMG45aew"
      },
      "execution_count": null,
      "outputs": []
    },
    {
      "cell_type": "code",
      "source": [
        "class Person:\n",
        "    def __init__(self): # 부모 클래스에 속성 __init__이 있을 시 호출되어야 함\n",
        "        print('Person __init__')\n",
        "        self.hello = '안녕하세요.'\n",
        "\n",
        "class Student(Person):\n",
        "    def __init__(self):\n",
        "        print('Student __init__')\n",
        "        super().__init__()  # super().메서드()로 기반 클래스 __init__ 메서드 호출\n",
        "        self.school = '파이썬 코딩 도장'\n",
        "\n",
        "james = Student()\n",
        "print(james.school)\n",
        "print(james.hello)"
      ],
      "metadata": {
        "id": "flQSpk97jCCk"
      },
      "execution_count": null,
      "outputs": []
    },
    {
      "cell_type": "markdown",
      "source": [
        "* 만약 파생 클래스에 __init__메서드를 생략한다면 기반 클래스의 __init__이 자동으로 호출 -> super().__init__() 작성할 필요 X\n"
      ],
      "metadata": {
        "id": "zOjvojCKkIX9"
      }
    },
    {
      "cell_type": "code",
      "source": [
        "class Person:\n",
        "    def __init__(self):\n",
        "        print('Person __init__')\n",
        "        self.hello = '안녕하세요.'\n",
        "\n",
        "class Student(Person):\n",
        "    pass    # 아무것도 안쓰면 오류, pass\n",
        "\n",
        "james = Student()\n",
        "print(james.hello)"
      ],
      "metadata": {
        "id": "G94jSbmnkVQ8"
      },
      "execution_count": null,
      "outputs": []
    },
    {
      "cell_type": "markdown",
      "source": [
        "* 메서드 오버라이딩 : 기반 클래스의 메서드를 무시하고 새로운 메서드를 만든다는 뜻\n",
        "* 기반 클래스와 동일한 메서드가 있을 시 파생클래스 메서드 동작"
      ],
      "metadata": {
        "id": "y5dtPxN_k7gD"
      }
    },
    {
      "cell_type": "code",
      "source": [
        "class Person:\n",
        "    def greeting(self):\n",
        "        print('안녕하세요.')\n",
        "\n",
        "class Student(Person):\n",
        "    def greeting(self):\n",
        "        print('안녕하세요. 저는 파이썬 코딩 도장 학생입니다.')\n",
        "\n",
        "james = Student()\n",
        "james.greeting()"
      ],
      "metadata": {
        "id": "f8DDFtxnlJuX"
      },
      "execution_count": null,
      "outputs": []
    },
    {
      "cell_type": "markdown",
      "source": [
        "* super().메서드()로 기반 클래스 메서드 호출"
      ],
      "metadata": {
        "id": "leoR5Ol5lbG1"
      }
    },
    {
      "cell_type": "code",
      "source": [
        "class Person:\n",
        "    def greeting(self):\n",
        "        print('hello guys')\n",
        "\n",
        "class Student(Person):\n",
        "    def greeting(self):\n",
        "        super().greeting()\n",
        "        print(\"I'm inha student.\")\n",
        "\n",
        "james = Student()\n",
        "james.greeting()"
      ],
      "metadata": {
        "id": "BbOHUS-_lipP"
      },
      "execution_count": null,
      "outputs": []
    },
    {
      "cell_type": "markdown",
      "source": [
        "* 다중 상속: class Student(Person, University):\n",
        "* 다이아몬드 상속\n",
        "* 해결책: 메서드 탐색 순서(Method Resuolution Order, MRO)\n",
        "* 클래스.mro() 사용"
      ],
      "metadata": {
        "id": "bBRTgNj1mFLR"
      }
    },
    {
      "cell_type": "code",
      "source": [
        "class A:\n",
        "    def greeting(self):\n",
        "        print('안녕하세요. A입니다.')\n",
        "\n",
        "class B(A):\n",
        "    def greeting(self):\n",
        "        print('안녕하세요. B입니다.')\n",
        "\n",
        "class C(A):\n",
        "    def greeting(self):\n",
        "        print('안녕하세요. C입니다.')\n",
        "\n",
        "class D(B, C): # B,C중에 앞에 있는 B사용\n",
        "    pass\n",
        "\n",
        "x = D()\n",
        "x.greeting()"
      ],
      "metadata": {
        "id": "q2k9XjGYmE8s"
      },
      "execution_count": null,
      "outputs": []
    },
    {
      "cell_type": "markdown",
      "source": [
        "* 추상 클래스: 메서드의 목록만 가진 클래스이며 상속받는 클래스에서 메서드 구현을 가제하기 위해 사용\n",
        "* 추상클래스를 상속받았다면 @abstractmethod가 붙은 추상 메서드를 모두 구현해야 함\n",
        "* 추상 클래스로는 인스턴스를 만들 수 없고 오로지 상속에만 사용"
      ],
      "metadata": {
        "id": "q6fqe45Enlp-"
      }
    },
    {
      "cell_type": "code",
      "source": [
        "from abc import*\n",
        "class 추상클래스 이름(metaclass=ABCMeta):\n",
        "#import abc\n",
        "#class 추상클래스 이름(metaclass=abc.ABCMeta):\n",
        "    @abstractmethod\n",
        "    def 메서드이름(self):\n",
        "        코드"
      ],
      "metadata": {
        "id": "INUaINKP0Q-_"
      },
      "execution_count": null,
      "outputs": []
    },
    {
      "cell_type": "code",
      "source": [
        "from abc import*\n",
        "\n",
        "class StudentBase(metaclass=ABCMeta):\n",
        "    @abstractmethod\n",
        "    def study(self):\n",
        "        pass\n",
        "\n",
        "    @abstractmethod\n",
        "    def go_to_school(self):\n",
        "        pass\n",
        "\n",
        "class Student(StudentBase):\n",
        "    def study(self):\n",
        "        print('공부하기')\n",
        "    # def go_to_school(self):   #추가, @abstractmethod가 붙은 추상 메서드 모두 구현해야 함\n",
        "    #     print('학교가기')\n",
        "\n",
        "james = Student()\n",
        "james.study()\n",
        "#james.go_to_school()"
      ],
      "metadata": {
        "id": "vnG51oXO1CRF"
      },
      "execution_count": null,
      "outputs": []
    },
    {
      "cell_type": "code",
      "source": [
        "class AdvancedList(list):\n",
        "    def replace(self, old, new):\n",
        "        while old in self:\n",
        "            self[self.index(old)] = new\n",
        "x = AdvancedList([1, 2, 3, 1, 2, 3, 1, 2, 3])\n",
        "x.replace(1, 100)\n",
        "print(x)"
      ],
      "metadata": {
        "id": "FojLYFqJ4WXt"
      },
      "execution_count": null,
      "outputs": []
    },
    {
      "cell_type": "markdown",
      "source": [
        "36.심사문제\n",
        "* 다음 소스 코드에서 동물 클래스 Animal과 날개 클래스 Wing을 상속받아 새 클래스 Bird를 작성하여 '먹다', '파닥거리다', '날다', True, True가 각 줄에 출력되게 만드세요.\n",
        "\n",
        "---\n",
        "\n",
        "\n",
        "* 먹다\n",
        "* 파닥거리다\n",
        "* 날다\n",
        "* True\n",
        "* True"
      ],
      "metadata": {
        "id": "25TxMN_u49Rp"
      }
    },
    {
      "cell_type": "code",
      "source": [
        "class Animal:\n",
        "    def eat(self):\n",
        "        print('먹다')\n",
        "\n",
        "class Wing:\n",
        "    def flap(self):\n",
        "        print('파닥거리다')\n",
        "\n",
        "________________\n",
        "________________\n",
        "________________\n",
        "\n",
        "b = Bird()\n",
        "b.eat()\n",
        "b.flap()\n",
        "b.fly()\n",
        "print(issubclass(Bird, Animal))\n",
        "print(issubclass(Bird, Wing))"
      ],
      "metadata": {
        "id": "PNSckgQ95BDh"
      },
      "execution_count": null,
      "outputs": []
    },
    {
      "cell_type": "code",
      "source": [
        "class Animal:\n",
        "    def eat(self):\n",
        "        print('먹다')\n",
        "\n",
        "class Wing:\n",
        "    def flap(self):\n",
        "        print('파닥거리다')\n",
        "\n",
        "class Bird(Animal, Wing):\n",
        "    def fly(self):\n",
        "        print('날다')\n",
        "\n",
        "b = Bird()\n",
        "b.eat()\n",
        "b.flap()\n",
        "b.fly()\n",
        "print(issubclass(Bird, Animal))\n",
        "print(issubclass(Bird, Wing))"
      ],
      "metadata": {
        "id": "NDVBuIv-5KJ7"
      },
      "execution_count": null,
      "outputs": []
    },
    {
      "cell_type": "markdown",
      "source": [
        "37. 두점 거리\n"
      ],
      "metadata": {
        "id": "vsIvPnnn5uHW"
      }
    },
    {
      "cell_type": "code",
      "source": [
        "import math\n",
        "\n",
        "class Point2D:\n",
        "    def __init__(self, x, y):\n",
        "        self.x = x\n",
        "        self.y = y\n",
        "\n",
        "p1 = Point2D(x=30, y=20)\n",
        "p2 = Point2D(x=60, y=50)\n",
        "\n",
        "a = p2.x - p1.x\n",
        "b = p2.y - p1.y\n",
        "c = math.sqrt((a*a)+(b*b))\n",
        "# c = math.sqrt(math.pow(a,2)+math.pow(b,2))\n",
        "# c = math.sqrt((a**2)+(b**2))\n",
        "print('p1: {} {}'.format(p1.x, p1.y))\n",
        "print('p2: {} {}'.format(p2.x, p2.y))\n",
        "print(c)"
      ],
      "metadata": {
        "id": "W4M9lMxU7T4S"
      },
      "execution_count": null,
      "outputs": []
    },
    {
      "cell_type": "code",
      "source": [
        "class Rectangle:\n",
        "    def __init__(self, x1, y1, x2, y2):\n",
        "        self.x1 = x1\n",
        "        self.y1 = y1\n",
        "        self.x2 = x2\n",
        "        self.y2 = y2\n",
        "\n",
        "rect = Rectangle(x1=20, y1=20, x2=40, y2=30)\n",
        "width = abs(rect.x2-rect.x1)  # abs : 절댓값\n",
        "height = abs(rect.y2-rect.y1)\n",
        "area = width*height\n",
        "print(area)"
      ],
      "metadata": {
        "id": "SJS2AtHa9TA_"
      },
      "execution_count": null,
      "outputs": []
    },
    {
      "cell_type": "markdown",
      "source": [
        "37. 심사문제. 사각형의 넓이 구하기\n",
        "* 표준 입력으로 x, y 좌표 4개가 입력되어 Point2D 클래스의 인스턴스 리스트에 저장됩니다. 여기서 점 4개는 첫 번째 점부터 마지막 점까지 순서대로 이어져 있습니다. 다음 소스 코드를 완성하여 첫 번째 점부터 마지막 점까지 연결된 선의 길이가 출력되게 만드세요.\n",
        "\n",
        "---\n",
        "\n",
        "\n",
        "* 입력: 10 10 20 20 30 30 40 40\n",
        "* 출력: 42.42640687119285"
      ],
      "metadata": {
        "id": "vE8xp0AP-QEQ"
      }
    },
    {
      "cell_type": "code",
      "source": [
        "import math\n",
        "\n",
        "class Point2D:\n",
        "    def __init__(self, x=0, y=0):\n",
        "        self.x = x\n",
        "        self.y = y\n",
        "\n",
        "length = 0.0\n",
        "p = [Point2D(), Point2D(), Point2D(), Point2D()]\n",
        "p[0].x, p[0].y, p[1].x, p[1].y, p[2].x, p[2].y, p[3].x, p[3].y = map(int, input().split())\n",
        "\n",
        "_____________________\n",
        "_____________________\n",
        "_____________________\n",
        "_____________________\n",
        "\n",
        "print(length)"
      ],
      "metadata": {
        "id": "swdS_1xF-dq6"
      },
      "execution_count": null,
      "outputs": []
    },
    {
      "cell_type": "code",
      "source": [
        "import math\n",
        "\n",
        "class Point2D:\n",
        "    def __init__(self, x=0, y=0):\n",
        "        self.x = x\n",
        "        self.y = y\n",
        "\n",
        "length = 0.0\n",
        "p = [Point2D(), Point2D(), Point2D(), Point2D()]\n",
        "p[0].x, p[0].y, p[1].x, p[1].y, p[2].x, p[2].y, p[3].x, p[3].y = map(int, input().split())\n",
        "\n",
        "def distance(a,b,c,d):\n",
        "    return math.sqrt((c-a)**2+(d-b)**2)\n",
        "line1=distance(p[0].x, p[0].y, p[1].x, p[1].y)\n",
        "line2=distance(p[1].x, p[1].y, p[2].x, p[2].y)\n",
        "line3=distance(p[2].x, p[2].y, p[3].x, p[3].y)\n",
        "\n",
        "length += line1+line2+line3\n",
        "\n",
        "print(length)"
      ],
      "metadata": {
        "id": "wZTO9Bhf-fio"
      },
      "execution_count": null,
      "outputs": []
    },
    {
      "cell_type": "code",
      "source": [
        "import math\n",
        "\n",
        "class Point2D:\n",
        "    def __init__(self, x=0, y=0):\n",
        "        self.x = x\n",
        "        self.y = y\n",
        "\n",
        "length = 0.0\n",
        "p = [Point2D(), Point2D(), Point2D(), Point2D()]\n",
        "p[0].x, p[0].y, p[1].x, p[1].y, p[2].x, p[2].y, p[3].x, p[3].y = map(int, input().split())\n",
        "\n",
        "for i in range(len(p)-1):\n",
        "    length += math.sqrt((p[i].x-p[i+1].x)**2+(p[i].y-p[i+1].y)**2)\n",
        "\n",
        "print(length)"
      ],
      "metadata": {
        "id": "Ai1SNhZMA8kW"
      },
      "execution_count": null,
      "outputs": []
    },
    {
      "cell_type": "markdown",
      "source": [],
      "metadata": {
        "id": "h57n7T14-N5x"
      }
    },
    {
      "cell_type": "markdown",
      "source": [
        "39. 이터레이터\n",
        "* 값을 차례대로 꺼낼 수 있는 객체, 반복자라고 부름\n",
        "* dir(객체)"
      ],
      "metadata": {
        "id": "gpmlMXvLw6NR"
      }
    },
    {
      "cell_type": "code",
      "source": [],
      "metadata": {
        "id": "tOAT66VEw5w9"
      },
      "execution_count": null,
      "outputs": []
    }
  ]
}